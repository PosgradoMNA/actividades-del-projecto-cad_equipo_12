{
 "cells": [
  {
   "cell_type": "markdown",
   "metadata": {
    "colab_type": "text",
    "id": "view-in-github"
   },
   "source": [
    "<a href=\"https://colab.research.google.com/github/tec03/ParaAssignment01-/blob/main/assignment01.ipynb\" target=\"_parent\"><img src=\"https://colab.research.google.com/assets/colab-badge.svg\" alt=\"Open In Colab\"/></a>"
   ]
  },
  {
   "cell_type": "markdown",
   "metadata": {
    "colab": {
     "base_uri": "https://localhost:8080/"
    },
    "id": "LzUSMM79NR9P",
    "outputId": "0e6cb421-1096-426a-b31a-f61d059def81"
   },
   "source": [
    "# <center>PROYECTO FINAL</center>\n",
    "## <center>CIENCIA Y ANALITICA DE DATOS</center>\n",
    "## <center>EQUIPO 12</center>\n",
    "### <center>Guillermo Alfonso Muñiz Hermosillo - A01793101</center>\n",
    "### <center>José Ramiro Adán Charles - A00174646</center>\n",
    "---"
   ]
  },
  {
   "cell_type": "markdown",
   "metadata": {},
   "source": [
    "# TABLA DE CONTENIDOS:\n",
    "\n",
    "- [Nombre del conjunto de datos](#conjuntoDatos)\n",
    "- [Organizacion que genero los datos](#organizationID)\n",
    "- [Enlace al conjunto de datos](#enlaceID)\n",
    "- [Descripcion del conjunto de datos](#descripcionID)\n",
    "- [Preguntas a resolver con el conjunto de datos](#preguntasID)\n",
    "- [Actor principal beneficiario del estudio de los datos](#beneficiarioID)"
   ]
  },
  {
   "cell_type": "markdown",
   "metadata": {
    "id": "mxM_WppZPMFx"
   },
   "source": [
    "<a id='conjuntoDatos'> \n",
    "<h1>NOMBRE DEL CONJUNTO DE DATOS:</h1></a>\n",
    "<h2><center>CENSO Y CONTEO DE POBLACION DE VIVIENDA 2020 - ESTADOS UNIDOS MEXICANOS</center></h2>"
   ]
  },
  {
   "cell_type": "markdown",
   "metadata": {},
   "source": [
    "<a id='organizationID'>\n",
    "    <h1>NOMBRE DE LA ORGANIZACION QUE GENERO LOS DATOS:</h1>\n",
    "</a>\n",
    "<h2><center>INSTITUTO NACIONAL DE ESTADISTICA Y GEOGRAFIA (INEGI)</center></h2>"
   ]
  },
  {
   "cell_type": "markdown",
   "metadata": {},
   "source": [
    "<a id='enlaceID'>\n",
    "    <h1>Enlace directo al conjunto de datos:</h1>\n",
    "</a>"
   ]
  },
  {
   "cell_type": "markdown",
   "metadata": {},
   "source": [
    "### **[DATOS DEL CENSO 2020](https://www.inegi.org.mx/contenidos/programas/ccpv/2020/datosabiertos/iter/iter_00_cpv2020_csv.zip)**"
   ]
  },
  {
   "cell_type": "markdown",
   "metadata": {},
   "source": [
    "<a id='descripcionID'>\n",
    "    <h1>DESCRIPCION DEL CONJUNTO DE DATOS:</h1>\n",
    "</a>\n",
    "<h2>\n",
    "    <center>Este conjunto de datos presenta los datos recolectados durante el censo nacional de vivienda y poblacion, realizado en los Estados Unidos Mexicanos en el año 2020. En este conjunto se muestran la informacion demografica y social de los 32 estados que componen el pais. \n",
    "        Los datos fueron obtenidos mediante la realizacion de un censo vivienda por vivienda realizado por servidores del INEGI. Se recolectaron 277 indicadores sociales, de vivienda, demograficos, de servicios de salud entre otros.\n",
    "    </center>\n",
    "</h2>"
   ]
  },
  {
   "cell_type": "markdown",
   "metadata": {},
   "source": [
    "<a id='preguntasID'>\n",
    "    <h1>PREGUNTAS A RESOLVER POR EL ANALISIS DE LOS DATOS:</h1>\n",
    "</a>\n",
    "<h2>\n",
    " <bl> *Nota: Se limitara el conjunto de datos a los 5 estados mas grandes y representativos del pais. </bl>\n",
    " <ol>1.- Cuales son las estadisticas del Numero de habitantes sin derecho a servicios de salud? </ol>\n",
    " <ol>2.- Cuales son los servicio de salud por localidad y tipo de servicio?</ol>\n",
    " <ol>3.- Cuales son los Niveles de escolaridad por edad y escolaridad?</ol>\n",
    " <ol>4.- Cuales son las estadisticas de vivienda en el pais? </ol>\n",
    " <ol>5.- Cuales son los niveles de acceso a tecnologias de comunicacion?</ol>\n",
    " <ol>6.- Cuales son los niveles de acceso a tecnologias de computo y estudio?</ol>\n",
    " <ol>7.- Cuales son las recomendaciones para incrementar el nivel socioeconomico de las entidades analizadas?</ol>\n",
    " <ol>8.- Como se comparan las 6 preguntas anteriores a los datos del censo del 2010? (Usando el censo del 2010 para comparativa)</ol>\n",
    "</h2>"
   ]
  },
  {
   "cell_type": "markdown",
   "metadata": {},
   "source": [
    "<a id='beneficiarioID'>\n",
    "    <h1>ACTOR PRINCIPAL BENEFICIADO POR ESTE ANALISIS:</h1>\n",
    "</a>\n",
    "<center>\n",
    "        El actor principal al que estamos enfocando nuestro analisis es a organizaciones gubernamentelas, ya sea Federales, estatales o municipales.\n",
    "        Las cuales pueden beneficiarse del analisis para implementar y planear acciones y coberturas de servicios basicos e incrementar el nivel socioeconomico y el bienestar de la poblacion en general.\n",
    "    </center>"
   ]
  },
  {
   "cell_type": "markdown",
   "metadata": {},
   "source": [
    "---\n",
    "<center> Otro actor principal, lo identificamos como organizaciones de vivienda como el INFONAVIT, el cual puede beneficiarse para enfocar su cartera de posibles clientes y programas de adquisicion de vivienda. </center>\n"
   ]
  },
  {
   "cell_type": "markdown",
   "metadata": {},
   "source": [
    "---\n",
    "<center> Finalmente tambien identificamos a las empresas de comunicaciones y tecnologias como posibles actores, esto debido a que nuestro analisis intentara dar una perspectiva del acceso a estos recursos en la poblacion. Estas empresas podrian enfocar su marketing y programas hacia los sectores que les sea mas conveniente. </center>"
   ]
  },
  {
   "cell_type": "code",
   "execution_count": null,
   "metadata": {},
   "outputs": [],
   "source": []
  }
 ],
 "metadata": {
  "colab": {
   "include_colab_link": true,
   "name": "assignment01.ipynb",
   "provenance": []
  },
  "kernelspec": {
   "display_name": "Python 3 (ipykernel)",
   "language": "python",
   "name": "python3"
  },
  "language_info": {
   "codemirror_mode": {
    "name": "ipython",
    "version": 3
   },
   "file_extension": ".py",
   "mimetype": "text/x-python",
   "name": "python",
   "nbconvert_exporter": "python",
   "pygments_lexer": "ipython3",
   "version": "3.8.5"
  }
 },
 "nbformat": 4,
 "nbformat_minor": 4
}
