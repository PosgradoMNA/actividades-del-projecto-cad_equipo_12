{
 "cells": [
  {
   "cell_type": "markdown",
   "id": "dafa8a38-2a27-4ea0-ab68-7d231b61278c",
   "metadata": {},
   "source": [
    "<center><img src='./imagenes/TecLogo.png'></center>\n",
    "\n",
    "# <center>Semana 3 - Actividad 1</center>\n",
    "## <center>CIENCIA Y ANALITICA DE DATOS</center>\n",
    "## <center>EQUIPO 12</center>\n",
    "## <center>Guillermo Alfonso Muñiz Hermosillo - A01793101</center>\n",
    "## <center>José Ramiro Adán Charles - A00174646</center>"
   ]
  },
  {
   "cell_type": "markdown",
   "id": "3c656875-6913-4d75-ab9f-59b5310236f9",
   "metadata": {
    "tags": []
   },
   "source": [
    "<h1 style='color:blue'>Parte 1: Fundamentos de bases de datos</h1>"
   ]
  },
  {
   "cell_type": "markdown",
   "id": "92037275-ba5f-4e44-b56a-51868eda3c19",
   "metadata": {},
   "source": [
    "<h2 style='color:blue'>Introducción</h2>\n",
    "    <span>Los datos son una fuente ilimitada de conocimiento, la cual nos puede brindar perspectivas únicas sobre cualquier aspecto de nuestra existencia. Podemos recopilar datos en cualquier lugar al que deseemos observar y analizar; desde nuestra actividad en línea, nuestra actividad bancaria, nuestros patrones de compa, los lugares a los que visitamos, el lugar donde trabajamos y una infinidad de lugares comunes y extraordinarios mas, los datos siempre están presentes y es el trabajo de los buenos analistas y científicos de datos identificar y explotar el potencial oculto en todos ellos. Es por esto por lo que un analista de datos tiene que escoger las herramientas más adecuadas para poder llevar a cabo tan excepcional tarea.</span>"
   ]
  },
  {
   "cell_type": "markdown",
   "id": "a4d8adf2-ea0c-4d8f-aeec-d2a2700247d9",
   "metadata": {},
   "source": [
    "<h2 style='color:blue'>Fundamentos de bases de datos y para ciencia de datos.</h2>\n",
    "    <span>Una persona interesada en el análisis de datos necesita tener las mejores herramientas a su disposición, mediante la lectura de esta semana hemos podido identificar a la base de datos como una de las herramientas básicas para llevar a cabo un análisis coherente, estructurado y significativo de los datos. Nosotros en base a nuestra perspectiva, definimos una base de datos como sigue:</span>  \n",
    "    \n",
    "   <b><span>“Una base de datos es un sistema informático, capaz de almacenar información estructurada y relacionada sobre diversas líneas de interés; Todo esto con el fin de que la información no solo pueda ser guardada sino permitir que sea analizada, modificada y procesada de una manera eficiente para permitir obtener múltiples beneficios de ella”.</span></b>\n",
    "    \n",
    "   <span>Así mismo, después de nuestro análisis hemos identificado los componentes más importantes de un sistema de base de datos:</span>\n",
    "   \n",
    "- El más importante es su sistema de administración (DBMS), este componente es el alma del sistema de base de datos. Mediante el podemos encargarnos de la administración y control de la información almacenada en la base de datos.\n",
    "- Las tablas es la manera en que nuestra base de datos será organizada. Como su nombre lo dice, es una unión de filas y columnas en las cuales se almacenará la información de la base de datos. \n",
    "- Cada fila equivale a un registro en la base de datos; una pieza de información recolectada lista para ser analizada.\n",
    "- Cada columna indica un atributo o campo de la información contenida en la base de datos. Con cada campo podemos llevar nuestro análisis a un nuevo nivel de procesamiento. Nosotros lo consideramos como la unidad básica de una base de datos.\n",
    "- Las consultas son una parte fundamental del análisis de datos, cada sistema de base de datos viene de la mano con información ordenada que puede ser consultada. El método más común son las consultas por SQL, aunque hoy en día existen nuevas técnicas como las consultas de datos visuales (como Tableu) que amplían la gama de capacidades para la obtención de perspectivas dentro del sistema de base de datos.\n",
    "\n",
    "Hoy en día para los analistas, científicos y aficionados del análisis de información, las bases de datos representan una herramienta fundamental para el desempeño de su trabajo. Mas adelante abordaremos como el uso de una base de datos dependerá en gran medida de la cantidad de datos con los cuales se trabajará, así como el número de fuentes con las que se lleva a cabo el análisis de datos. Sin embargo, es inequívoco que aquella persona que quiera elevar su nivel como analista de datos debe de tener en su repertorio de habilidades la capacidad y competencia para trabajar con estos sistemas tan elementales."
   ]
  },
  {
   "cell_type": "markdown",
   "id": "591f8e53-4d17-4b17-8399-e4638934961c",
   "metadata": {},
   "source": [
    "<h2 style='color:blue'>Fundamentos de almacenes de datos (Data Warehouse) para ciencia de datos.</h2>\n",
    "\n",
    "   La tecnología de la base de datos como la conocemos hoy en día, si bien es ampliamente funcional, es una tecnología ya algo antigua ya que data del siglo pasado; dicha tecnología ha venido adaptándose constantemente a las necesidades actuales. Sin embargo, su estructura continúa siendo prácticamente la misma. Las bases de datos nos ligan a un sistema en el cual necesitamos procesar y limpiar los datos antes de poder cargarlos a nuestra base de datos, ya que estos deben ser organizados usualmente de manera tabula. Este modelo nos trae un gran costo al procesar datos semiestructurados y no estructurados ya que no pueden ser convertidos a dicho formato fácilmente... Así mismo, en un mundo cada vez más abierto e interconectado, la cantidad de datos ha crecido exponencialmente y el tratamiento de datos a través de una sola base de datos las hace lentas y con un bajo rendimiento. Es así como, partiendo de estas necesidades, hemos identificado que han surgido los almacenes de datos (Data Warehouses).\n",
    "\n",
    "   Un almacén de datos es un contenedor centralizado de datos de todos tipos, de diferentes fuentes e incluso con distintos propósitos. Entre ellos: la ciencia de datos, el diseño de algoritmos de aprendizaje automático, la toma de decisiones etc...  \n",
    "\n",
    "   A diferencia de las bases de datos, los almacenes de datos tienen un enfoque diseñado con el modelo ELT (extracción, carga y transformación) esto quiere decir que el procesamiento de la información se da después de haber cargado todos los datos disponibles. Esto nos ayuda a reducir costos de procesamiento ya que, si un conjunto de datos se vuelve muy grande, el procesamiento para convertir datos a tablas relacionales es costoso y lento. En los almacenes de datos este procesamiento se da en la última etapa, una vez que los datos han sido cargados, mediante el uso de nuevas técnicas de procesamiento las cuales nos ayudan a interpretar y clasificar los datos de una manera más eficiente y distribuida.   Así mismo nos ayuda a crear una armonía entre datos de tipos muy variados y de fuentes dispares, ampliando nuestro horizonte pare crear modelos que sean capaces de tomar las mejores decisiones o proveer las mejores recomendaciones. "
   ]
  },
  {
   "cell_type": "markdown",
   "id": "ee76ae66-b95d-4276-989b-3471c4aa3e41",
   "metadata": {},
   "source": [
    "<h1 style=color:blue>Parte 2: Selección y limpieza de los Datos en Python</h1>"
   ]
  },
  {
   "cell_type": "markdown",
   "id": "ffe7b482-e0a0-42e8-a5a7-a64e26e3ceec",
   "metadata": {},
   "source": [
    "<h2 style='color:blue'>Bibliografía</h2>\n",
    "\n",
    "- Cavell-Clarke, S. (2018). What is a database? BookLife Publishing.\n",
    "- CSB, & SJU Libraries. (2020). Research guides: General library research tutorials: Module 4: Searching a database. https://guides.csbsju.edu/general-research/searching\n",
    "- Kim, K. (s/f). What is a database? Definition, types and examples. Fivetran.com. Recuperado el 4 de octubre de 2022, de https://www.fivetran.com/blog/what-is-a-database\n",
    "- ¿Qué es un almacén de datos? (s/f). Oracle.com. Recuperado el 4 de octubre de 2022, de https://www.oracle.com/mx/database/what-is-a-data-warehouse/\n",
    "- Reed, N. (2021, enero 19). The history of databases. ThinkAutomation. https://www.thinkautomation.com/histories/the-history-of-databases/"
   ]
  }
 ],
 "metadata": {
  "kernelspec": {
   "display_name": "Python 3 (ipykernel)",
   "language": "python",
   "name": "python3"
  },
  "language_info": {
   "codemirror_mode": {
    "name": "ipython",
    "version": 3
   },
   "file_extension": ".py",
   "mimetype": "text/x-python",
   "name": "python",
   "nbconvert_exporter": "python",
   "pygments_lexer": "ipython3",
   "version": "3.8.5"
  }
 },
 "nbformat": 4,
 "nbformat_minor": 5
}
