{
 "cells": [
  {
   "cell_type": "markdown",
   "id": "6a175c21-7a3a-4fec-a972-28b63f7eb41c",
   "metadata": {},
   "source": [
    "<center><img src='./imagenes/TecLogo.png'></center>\n",
    "\n",
    "# <center>Semana 3 - Actividad 1</center>\n",
    "## <center>CIENCIA Y ANALITICA DE DATOS</center>\n",
    "## <center>EQUIPO 12</center>\n",
    "## <center>Guillermo Alfonso Muñiz Hermosillo - A01793101</center>\n",
    "## <center>José Ramiro Adán Charles - A00174646</center>"
   ]
  },
  {
   "cell_type": "markdown",
   "id": "28dd9963-eb63-4cd7-abb7-8cb00906634a",
   "metadata": {
    "tags": []
   },
   "source": [
    "<h1 style='color:blue'>Parte 1: Fundamentos de bases de datos</h1>"
   ]
  },
  {
   "cell_type": "markdown",
   "id": "b512417e-074c-44d8-bf14-0ac25ec0be9d",
   "metadata": {},
   "source": [
    "<h2 style='color:blue'>Introducción</h2>\n",
    "    <span>Los datos son una fuente ilimitada de conocimiento, la cual nos puede brindar perspectivas únicas sobre cualquier aspecto de nuestra existencia. Podemos recopilar datos en cualquier lugar al que deseemos observar y analizar; desde nuestra actividad en línea, nuestra actividad bancaria, nuestros patrones de compa, los lugares a los que visitamos, el lugar donde trabajamos y una infinidad de lugares comunes y extraordinarios mas, los datos siempre están presentes y es el trabajo de los buenos analistas y científicos de datos identificar y explotar el potencial oculto en todos ellos. Es por esto por lo que un analista de datos tiene que escoger las herramientas más adecuadas para poder llevar a cabo tan excepcional tarea.</span>"
   ]
  },
  {
   "cell_type": "markdown",
   "id": "e290704d-549d-4142-ad05-78102b41edea",
   "metadata": {},
   "source": [
    "<h2 style='color:blue'>Fundamentos de bases de datos y para ciencia de datos.</h2>\n",
    "    <span>Una persona interesada en el análisis de datos necesita tener las mejores herramientas a su disposición, mediante la lectura de esta semana hemos podido identificar a la base de datos como una de las herramientas básicas para llevar a cabo un análisis coherente, estructurado y significativo de los datos. Nosotros en base a nuestra perspectiva, definimos una base de datos como sigue:</span>  \n",
    "    \n",
    "   <b><span>“Una base de datos es un sistema informático, capaz de almacenar información estructurada y relacionada sobre diversas líneas de interés; Todo esto con el fin de que la información no solo pueda ser guardada sino permitir que sea analizada, modificada y procesada de una manera eficiente para permitir obtener múltiples beneficios de ella”.</span></b>\n",
    "    \n",
    "   <span>Así mismo, después de nuestro análisis hemos identificado los componentes más importantes de un sistema de base de datos:</span>\n",
    "   \n",
    "- El más importante es su sistema de administración (DBMS), este componente es el alma del sistema de base de datos. Mediante el podemos encargarnos de la administración y control de la información almacenada en la base de datos.\n",
    "- Las tablas es la manera en que nuestra base de datos será organizada. Como su nombre lo dice, es una unión de filas y columnas en las cuales se almacenará la información de la base de datos. \n",
    "- Cada fila equivale a un registro en la base de datos; una pieza de información recolectada lista para ser analizada.\n",
    "- Cada columna indica un atributo o campo de la información contenida en la base de datos. Con cada campo podemos llevar nuestro análisis a un nuevo nivel de procesamiento. Nosotros lo consideramos como la unidad básica de una base de datos.\n",
    "- Las consultas son una parte fundamental del análisis de datos, cada sistema de base de datos viene de la mano con información ordenada que puede ser consultada. El método más común son las consultas por SQL, aunque hoy en día existen nuevas técnicas como las consultas de datos visuales (como Tableu) que amplían la gama de capacidades para la obtención de perspectivas dentro del sistema de base de datos.\n",
    "\n",
    "Hoy en día para los analistas, científicos y aficionados del análisis de información, las bases de datos representan una herramienta fundamental para el desempeño de su trabajo. Mas adelante abordaremos como el uso de una base de datos dependerá en gran medida de la cantidad de datos con los cuales se trabajará, así como el número de fuentes con las que se lleva a cabo el análisis de datos. Sin embargo, es inequívoco que aquella persona que quiera elevar su nivel como analista de datos debe de tener en su repertorio de habilidades la capacidad y competencia para trabajar con estos sistemas tan elementales."
   ]
  },
  {
   "cell_type": "markdown",
   "id": "8718ed6f-4c56-4a3b-8105-791e2aa91825",
   "metadata": {},
   "source": [
    "<h2 style='color:blue'>Fundamentos de almacenes de datos (Data Warehouse) para ciencia de datos.</h2>\n",
    "\n",
    "   La tecnología de la base de datos como la conocemos hoy en día, si bien es ampliamente funcional, es una tecnología ya algo antigua ya que data del siglo pasado; dicha tecnología ha venido adaptándose constantemente a las necesidades actuales. Sin embargo, su estructura continúa siendo prácticamente la misma. Las bases de datos nos ligan a un sistema en el cual necesitamos procesar y limpiar los datos antes de poder cargarlos a nuestra base de datos, ya que estos deben ser organizados usualmente de manera tabula. Este modelo nos trae un gran costo al procesar datos semiestructurados y no estructurados ya que no pueden ser convertidos a dicho formato fácilmente... Así mismo, en un mundo cada vez más abierto e interconectado, la cantidad de datos ha crecido exponencialmente y el tratamiento de datos a través de una sola base de datos las hace lentas y con un bajo rendimiento. Es así como, partiendo de estas necesidades, hemos identificado que han surgido los almacenes de datos (Data Warehouses).\n",
    "\n",
    "   Un almacén de datos es un contenedor centralizado de datos de todos tipos, de diferentes fuentes e incluso con distintos propósitos. Entre ellos: la ciencia de datos, el diseño de algoritmos de aprendizaje automático, la toma de decisiones etc...  \n",
    "\n",
    "   A diferencia de las bases de datos, los almacenes de datos tienen un enfoque diseñado con el modelo ELT (extracción, carga y transformación) esto quiere decir que el procesamiento de la información se da después de haber cargado todos los datos disponibles. Esto nos ayuda a reducir costos de procesamiento ya que, si un conjunto de datos se vuelve muy grande, el procesamiento para convertir datos a tablas relacionales es costoso y lento. En los almacenes de datos este procesamiento se da en la última etapa, una vez que los datos han sido cargados, mediante el uso de nuevas técnicas de procesamiento las cuales nos ayudan a interpretar y clasificar los datos de una manera más eficiente y distribuida.   Así mismo nos ayuda a crear una armonía entre datos de tipos muy variados y de fuentes dispares, ampliando nuestro horizonte pare crear modelos que sean capaces de tomar las mejores decisiones o proveer las mejores recomendaciones. "
   ]
  },
  {
   "cell_type": "markdown",
   "id": "f85820a7-6ea8-46d0-82aa-aaa60f36d4b1",
   "metadata": {},
   "source": [
    "<h1 style=color:blue>Parte 2: Selección y limpieza de los Datos en Python</h1>"
   ]
  },
  {
   "cell_type": "code",
   "execution_count": 1,
   "id": "3d0134a4-79d5-415c-b9a0-e7059039c17e",
   "metadata": {},
   "outputs": [],
   "source": [
    "import pandas as pd\n",
    "import numpy as np"
   ]
  },
  {
   "cell_type": "code",
   "execution_count": 2,
   "id": "4431a7fe-776c-4b88-92d6-b82178c59984",
   "metadata": {},
   "outputs": [
    {
     "data": {
      "text/html": [
       "<div>\n",
       "<style scoped>\n",
       "    .dataframe tbody tr th:only-of-type {\n",
       "        vertical-align: middle;\n",
       "    }\n",
       "\n",
       "    .dataframe tbody tr th {\n",
       "        vertical-align: top;\n",
       "    }\n",
       "\n",
       "    .dataframe thead th {\n",
       "        text-align: right;\n",
       "    }\n",
       "</style>\n",
       "<table border=\"1\" class=\"dataframe\">\n",
       "  <thead>\n",
       "    <tr style=\"text-align: right;\">\n",
       "      <th></th>\n",
       "      <th>ID</th>\n",
       "      <th>X1</th>\n",
       "      <th>X2</th>\n",
       "      <th>X3</th>\n",
       "      <th>X4</th>\n",
       "      <th>X5</th>\n",
       "      <th>X6</th>\n",
       "      <th>X7</th>\n",
       "      <th>X8</th>\n",
       "      <th>X9</th>\n",
       "      <th>...</th>\n",
       "      <th>X15</th>\n",
       "      <th>X16</th>\n",
       "      <th>X17</th>\n",
       "      <th>X18</th>\n",
       "      <th>X19</th>\n",
       "      <th>X20</th>\n",
       "      <th>X21</th>\n",
       "      <th>X22</th>\n",
       "      <th>X23</th>\n",
       "      <th>Y</th>\n",
       "    </tr>\n",
       "  </thead>\n",
       "  <tbody>\n",
       "    <tr>\n",
       "      <th>0</th>\n",
       "      <td>1</td>\n",
       "      <td>20000</td>\n",
       "      <td>2.0</td>\n",
       "      <td>2.0</td>\n",
       "      <td>1.0</td>\n",
       "      <td>24.0</td>\n",
       "      <td>2.0</td>\n",
       "      <td>2.0</td>\n",
       "      <td>-1.0</td>\n",
       "      <td>-1.0</td>\n",
       "      <td>...</td>\n",
       "      <td>0.0</td>\n",
       "      <td>0.0</td>\n",
       "      <td>0.0</td>\n",
       "      <td>0.0</td>\n",
       "      <td>689.0</td>\n",
       "      <td>0.0</td>\n",
       "      <td>0.0</td>\n",
       "      <td>0.0</td>\n",
       "      <td>0.0</td>\n",
       "      <td>1.0</td>\n",
       "    </tr>\n",
       "    <tr>\n",
       "      <th>1</th>\n",
       "      <td>2</td>\n",
       "      <td>120000</td>\n",
       "      <td>2.0</td>\n",
       "      <td>2.0</td>\n",
       "      <td>2.0</td>\n",
       "      <td>26.0</td>\n",
       "      <td>-1.0</td>\n",
       "      <td>2.0</td>\n",
       "      <td>0.0</td>\n",
       "      <td>0.0</td>\n",
       "      <td>...</td>\n",
       "      <td>3272.0</td>\n",
       "      <td>3455.0</td>\n",
       "      <td>3261.0</td>\n",
       "      <td>0.0</td>\n",
       "      <td>1000.0</td>\n",
       "      <td>1000.0</td>\n",
       "      <td>1000.0</td>\n",
       "      <td>0.0</td>\n",
       "      <td>2000.0</td>\n",
       "      <td>1.0</td>\n",
       "    </tr>\n",
       "    <tr>\n",
       "      <th>2</th>\n",
       "      <td>3</td>\n",
       "      <td>90000</td>\n",
       "      <td>2.0</td>\n",
       "      <td>2.0</td>\n",
       "      <td>2.0</td>\n",
       "      <td>34.0</td>\n",
       "      <td>0.0</td>\n",
       "      <td>0.0</td>\n",
       "      <td>0.0</td>\n",
       "      <td>0.0</td>\n",
       "      <td>...</td>\n",
       "      <td>14331.0</td>\n",
       "      <td>14948.0</td>\n",
       "      <td>15549.0</td>\n",
       "      <td>1518.0</td>\n",
       "      <td>1500.0</td>\n",
       "      <td>1000.0</td>\n",
       "      <td>1000.0</td>\n",
       "      <td>1000.0</td>\n",
       "      <td>5000.0</td>\n",
       "      <td>0.0</td>\n",
       "    </tr>\n",
       "    <tr>\n",
       "      <th>3</th>\n",
       "      <td>4</td>\n",
       "      <td>50000</td>\n",
       "      <td>2.0</td>\n",
       "      <td>2.0</td>\n",
       "      <td>1.0</td>\n",
       "      <td>37.0</td>\n",
       "      <td>0.0</td>\n",
       "      <td>0.0</td>\n",
       "      <td>0.0</td>\n",
       "      <td>0.0</td>\n",
       "      <td>...</td>\n",
       "      <td>28314.0</td>\n",
       "      <td>28959.0</td>\n",
       "      <td>29547.0</td>\n",
       "      <td>2000.0</td>\n",
       "      <td>2019.0</td>\n",
       "      <td>1200.0</td>\n",
       "      <td>1100.0</td>\n",
       "      <td>1069.0</td>\n",
       "      <td>1000.0</td>\n",
       "      <td>0.0</td>\n",
       "    </tr>\n",
       "    <tr>\n",
       "      <th>4</th>\n",
       "      <td>5</td>\n",
       "      <td>50000</td>\n",
       "      <td>1.0</td>\n",
       "      <td>2.0</td>\n",
       "      <td>1.0</td>\n",
       "      <td>57.0</td>\n",
       "      <td>-1.0</td>\n",
       "      <td>0.0</td>\n",
       "      <td>-1.0</td>\n",
       "      <td>0.0</td>\n",
       "      <td>...</td>\n",
       "      <td>20940.0</td>\n",
       "      <td>19146.0</td>\n",
       "      <td>19131.0</td>\n",
       "      <td>2000.0</td>\n",
       "      <td>36681.0</td>\n",
       "      <td>10000.0</td>\n",
       "      <td>9000.0</td>\n",
       "      <td>689.0</td>\n",
       "      <td>679.0</td>\n",
       "      <td>0.0</td>\n",
       "    </tr>\n",
       "  </tbody>\n",
       "</table>\n",
       "<p>5 rows × 25 columns</p>\n",
       "</div>"
      ],
      "text/plain": [
       "   ID      X1   X2   X3   X4    X5   X6   X7   X8   X9  ...      X15      X16  \\\n",
       "0   1   20000  2.0  2.0  1.0  24.0  2.0  2.0 -1.0 -1.0  ...      0.0      0.0   \n",
       "1   2  120000  2.0  2.0  2.0  26.0 -1.0  2.0  0.0  0.0  ...   3272.0   3455.0   \n",
       "2   3   90000  2.0  2.0  2.0  34.0  0.0  0.0  0.0  0.0  ...  14331.0  14948.0   \n",
       "3   4   50000  2.0  2.0  1.0  37.0  0.0  0.0  0.0  0.0  ...  28314.0  28959.0   \n",
       "4   5   50000  1.0  2.0  1.0  57.0 -1.0  0.0 -1.0  0.0  ...  20940.0  19146.0   \n",
       "\n",
       "       X17     X18      X19      X20     X21     X22     X23    Y  \n",
       "0      0.0     0.0    689.0      0.0     0.0     0.0     0.0  1.0  \n",
       "1   3261.0     0.0   1000.0   1000.0  1000.0     0.0  2000.0  1.0  \n",
       "2  15549.0  1518.0   1500.0   1000.0  1000.0  1000.0  5000.0  0.0  \n",
       "3  29547.0  2000.0   2019.0   1200.0  1100.0  1069.0  1000.0  0.0  \n",
       "4  19131.0  2000.0  36681.0  10000.0  9000.0   689.0   679.0  0.0  \n",
       "\n",
       "[5 rows x 25 columns]"
      ]
     },
     "execution_count": 2,
     "metadata": {},
     "output_type": "execute_result"
    }
   ],
   "source": [
    "import ssl\n",
    "import os\n",
    "import requests\n",
    "\n",
    "# Este workaround nos sirve para agregar certificados SSL ya que estamos trabajando en MAC\n",
    "ssl._create_default_https_context = ssl._create_unverified_context\n",
    "\n",
    "# Declaramos la direccion del archivo csv que vamos a usar\n",
    "url = 'https://raw.githubusercontent.com/PosgradoMNA/Actividades_Aprendizaje-/main/default%20of%20credit%20card%20clients.csv'\n",
    "# Creamos el path con el nombre que tendra mi archivo\n",
    "path=os.path.join(os.getcwd(),'creditcardclients.csv')\n",
    "# Enviamos un request para obtener el archivo\n",
    "r=requests.get(url)\n",
    "# Usando la request, creo un archivo nuevo y escribimos el contenido de la request.\n",
    "with open(path,'wb') as f:\n",
    "    f.write(r.content)\n",
    "# Creamos mi dataframe leyendo el archivo creado.\n",
    "df = pd.read_csv(\"creditcardclients.csv\")\n",
    "\n",
    "# Para verificar los datos creados, imprimimos los primeros 5 registros\n",
    "df.head()\n"
   ]
  },
  {
   "cell_type": "markdown",
   "id": "0021f1e5-e23a-4691-87ad-025d462031c8",
   "metadata": {},
   "source": [
    "Verificamos si hay datos nulos"
   ]
  },
  {
   "cell_type": "code",
   "execution_count": 3,
   "id": "9a35a820-cb35-4a00-b02a-3e899be08817",
   "metadata": {},
   "outputs": [
    {
     "data": {
      "text/plain": [
       "ID     False\n",
       "X1     False\n",
       "X2      True\n",
       "X3      True\n",
       "X4      True\n",
       "X5      True\n",
       "X6      True\n",
       "X7      True\n",
       "X8      True\n",
       "X9      True\n",
       "X10     True\n",
       "X11     True\n",
       "X12     True\n",
       "X13     True\n",
       "X14     True\n",
       "X15     True\n",
       "X16     True\n",
       "X17     True\n",
       "X18     True\n",
       "X19     True\n",
       "X20     True\n",
       "X21     True\n",
       "X22     True\n",
       "X23     True\n",
       "Y       True\n",
       "dtype: bool"
      ]
     },
     "execution_count": 3,
     "metadata": {},
     "output_type": "execute_result"
    }
   ],
   "source": [
    "df.isnull().any()"
   ]
  },
  {
   "cell_type": "markdown",
   "id": "17955ec7-5ccf-4a4f-b98b-988de5ea81ed",
   "metadata": {},
   "source": [
    "Para verificar que datos son nulos. Guardamos en un Dataframe aquellos que lo son."
   ]
  },
  {
   "cell_type": "code",
   "execution_count": 4,
   "id": "9a32b8db-84a7-4b10-868f-3b06f0d645c5",
   "metadata": {},
   "outputs": [],
   "source": [
    "datosNulos = df.isnull()"
   ]
  },
  {
   "cell_type": "markdown",
   "id": "dbc3358d-a9ad-4f1c-a0d7-fb6af0d29b5e",
   "metadata": {},
   "source": [
    "Para obtener el numero de datos nulos por columna, Creamos un dataframe con la suma de los registros que tienen valores (TRUE) y los que no tienen valores (FALSE)"
   ]
  },
  {
   "cell_type": "code",
   "execution_count": 5,
   "id": "67cdeb94-be8e-41ba-b714-cc092f8954c3",
   "metadata": {},
   "outputs": [
    {
     "data": {
      "text/html": [
       "<div>\n",
       "<style scoped>\n",
       "    .dataframe tbody tr th:only-of-type {\n",
       "        vertical-align: middle;\n",
       "    }\n",
       "\n",
       "    .dataframe tbody tr th {\n",
       "        vertical-align: top;\n",
       "    }\n",
       "\n",
       "    .dataframe thead th {\n",
       "        text-align: right;\n",
       "    }\n",
       "</style>\n",
       "<table border=\"1\" class=\"dataframe\">\n",
       "  <thead>\n",
       "    <tr style=\"text-align: right;\">\n",
       "      <th></th>\n",
       "      <th>ColumnName</th>\n",
       "      <th>True</th>\n",
       "      <th>False</th>\n",
       "    </tr>\n",
       "  </thead>\n",
       "  <tbody>\n",
       "    <tr>\n",
       "      <th>0</th>\n",
       "      <td>ID</td>\n",
       "      <td>30000</td>\n",
       "      <td>0</td>\n",
       "    </tr>\n",
       "    <tr>\n",
       "      <th>1</th>\n",
       "      <td>X1</td>\n",
       "      <td>30000</td>\n",
       "      <td>0</td>\n",
       "    </tr>\n",
       "    <tr>\n",
       "      <th>2</th>\n",
       "      <td>X2</td>\n",
       "      <td>29999</td>\n",
       "      <td>1</td>\n",
       "    </tr>\n",
       "    <tr>\n",
       "      <th>3</th>\n",
       "      <td>X3</td>\n",
       "      <td>29998</td>\n",
       "      <td>2</td>\n",
       "    </tr>\n",
       "    <tr>\n",
       "      <th>4</th>\n",
       "      <td>X4</td>\n",
       "      <td>29998</td>\n",
       "      <td>2</td>\n",
       "    </tr>\n",
       "    <tr>\n",
       "      <th>5</th>\n",
       "      <td>X5</td>\n",
       "      <td>29995</td>\n",
       "      <td>5</td>\n",
       "    </tr>\n",
       "    <tr>\n",
       "      <th>6</th>\n",
       "      <td>X6</td>\n",
       "      <td>29997</td>\n",
       "      <td>3</td>\n",
       "    </tr>\n",
       "    <tr>\n",
       "      <th>7</th>\n",
       "      <td>X7</td>\n",
       "      <td>29995</td>\n",
       "      <td>5</td>\n",
       "    </tr>\n",
       "    <tr>\n",
       "      <th>8</th>\n",
       "      <td>X8</td>\n",
       "      <td>29993</td>\n",
       "      <td>7</td>\n",
       "    </tr>\n",
       "    <tr>\n",
       "      <th>9</th>\n",
       "      <td>X9</td>\n",
       "      <td>29991</td>\n",
       "      <td>9</td>\n",
       "    </tr>\n",
       "    <tr>\n",
       "      <th>10</th>\n",
       "      <td>X10</td>\n",
       "      <td>29984</td>\n",
       "      <td>16</td>\n",
       "    </tr>\n",
       "    <tr>\n",
       "      <th>11</th>\n",
       "      <td>X11</td>\n",
       "      <td>29986</td>\n",
       "      <td>14</td>\n",
       "    </tr>\n",
       "    <tr>\n",
       "      <th>12</th>\n",
       "      <td>X12</td>\n",
       "      <td>29989</td>\n",
       "      <td>11</td>\n",
       "    </tr>\n",
       "    <tr>\n",
       "      <th>13</th>\n",
       "      <td>X13</td>\n",
       "      <td>29989</td>\n",
       "      <td>11</td>\n",
       "    </tr>\n",
       "    <tr>\n",
       "      <th>14</th>\n",
       "      <td>X14</td>\n",
       "      <td>29987</td>\n",
       "      <td>13</td>\n",
       "    </tr>\n",
       "    <tr>\n",
       "      <th>15</th>\n",
       "      <td>X15</td>\n",
       "      <td>29985</td>\n",
       "      <td>15</td>\n",
       "    </tr>\n",
       "    <tr>\n",
       "      <th>16</th>\n",
       "      <td>X16</td>\n",
       "      <td>29983</td>\n",
       "      <td>17</td>\n",
       "    </tr>\n",
       "    <tr>\n",
       "      <th>17</th>\n",
       "      <td>X17</td>\n",
       "      <td>29990</td>\n",
       "      <td>10</td>\n",
       "    </tr>\n",
       "    <tr>\n",
       "      <th>18</th>\n",
       "      <td>X18</td>\n",
       "      <td>29992</td>\n",
       "      <td>8</td>\n",
       "    </tr>\n",
       "    <tr>\n",
       "      <th>19</th>\n",
       "      <td>X19</td>\n",
       "      <td>29991</td>\n",
       "      <td>9</td>\n",
       "    </tr>\n",
       "    <tr>\n",
       "      <th>20</th>\n",
       "      <td>X20</td>\n",
       "      <td>29992</td>\n",
       "      <td>8</td>\n",
       "    </tr>\n",
       "    <tr>\n",
       "      <th>21</th>\n",
       "      <td>X21</td>\n",
       "      <td>29989</td>\n",
       "      <td>11</td>\n",
       "    </tr>\n",
       "    <tr>\n",
       "      <th>22</th>\n",
       "      <td>X22</td>\n",
       "      <td>29989</td>\n",
       "      <td>11</td>\n",
       "    </tr>\n",
       "    <tr>\n",
       "      <th>23</th>\n",
       "      <td>X23</td>\n",
       "      <td>29995</td>\n",
       "      <td>5</td>\n",
       "    </tr>\n",
       "    <tr>\n",
       "      <th>24</th>\n",
       "      <td>Y</td>\n",
       "      <td>29997</td>\n",
       "      <td>3</td>\n",
       "    </tr>\n",
       "  </tbody>\n",
       "</table>\n",
       "</div>"
      ],
      "text/plain": [
       "   ColumnName   True  False\n",
       "0          ID  30000      0\n",
       "1          X1  30000      0\n",
       "2          X2  29999      1\n",
       "3          X3  29998      2\n",
       "4          X4  29998      2\n",
       "5          X5  29995      5\n",
       "6          X6  29997      3\n",
       "7          X7  29995      5\n",
       "8          X8  29993      7\n",
       "9          X9  29991      9\n",
       "10        X10  29984     16\n",
       "11        X11  29986     14\n",
       "12        X12  29989     11\n",
       "13        X13  29989     11\n",
       "14        X14  29987     13\n",
       "15        X15  29985     15\n",
       "16        X16  29983     17\n",
       "17        X17  29990     10\n",
       "18        X18  29992      8\n",
       "19        X19  29991      9\n",
       "20        X20  29992      8\n",
       "21        X21  29989     11\n",
       "22        X22  29989     11\n",
       "23        X23  29995      5\n",
       "24          Y  29997      3"
      ]
     },
     "execution_count": 5,
     "metadata": {},
     "output_type": "execute_result"
    }
   ],
   "source": [
    "rows = []\n",
    "for columna in datosNulos.columns.values.tolist():\n",
    "    rows.append({\n",
    "        'ColumnName':columna, \n",
    "        'True': datosNulos[columna].value_counts().values[0],\n",
    "        'False': datosNulos[columna].value_counts().values[1] if len(datosNulos[columna].value_counts().values) > 1 else 0\n",
    "    })\n",
    "nulldf = pd.DataFrame(rows)    \n",
    "nulldf"
   ]
  },
  {
   "cell_type": "markdown",
   "id": "6015bb46-794d-4e79-a721-19952c8a1d3d",
   "metadata": {},
   "source": [
    "# UNIFORMIDAD Y PROCESAMIENTO DE DATOS"
   ]
  },
  {
   "cell_type": "code",
   "execution_count": 6,
   "id": "8126f50e-896e-4ba8-821a-769639bd35f9",
   "metadata": {},
   "outputs": [
    {
     "data": {
      "text/html": [
       "<div>\n",
       "<style scoped>\n",
       "    .dataframe tbody tr th:only-of-type {\n",
       "        vertical-align: middle;\n",
       "    }\n",
       "\n",
       "    .dataframe tbody tr th {\n",
       "        vertical-align: top;\n",
       "    }\n",
       "\n",
       "    .dataframe thead th {\n",
       "        text-align: right;\n",
       "    }\n",
       "</style>\n",
       "<table border=\"1\" class=\"dataframe\">\n",
       "  <thead>\n",
       "    <tr style=\"text-align: right;\">\n",
       "      <th></th>\n",
       "      <th>ID</th>\n",
       "      <th>Total_Credito</th>\n",
       "      <th>Sexo</th>\n",
       "      <th>Estudios</th>\n",
       "      <th>Estado_Civil</th>\n",
       "      <th>Edad</th>\n",
       "      <th>PPSep2005</th>\n",
       "      <th>PPAgo2005</th>\n",
       "      <th>PPJul2005</th>\n",
       "      <th>PPJun2005</th>\n",
       "      <th>...</th>\n",
       "      <th>TRJun2005</th>\n",
       "      <th>TRMay2005</th>\n",
       "      <th>TRAbr2005</th>\n",
       "      <th>TPPSep2005</th>\n",
       "      <th>TPPAgo2005</th>\n",
       "      <th>TPPJul2005</th>\n",
       "      <th>TPPJun2005</th>\n",
       "      <th>TPPMay2005</th>\n",
       "      <th>TPPAbr2005</th>\n",
       "      <th>Y</th>\n",
       "    </tr>\n",
       "  </thead>\n",
       "  <tbody>\n",
       "    <tr>\n",
       "      <th>0</th>\n",
       "      <td>1</td>\n",
       "      <td>20000</td>\n",
       "      <td>2.0</td>\n",
       "      <td>2.0</td>\n",
       "      <td>1.0</td>\n",
       "      <td>24.0</td>\n",
       "      <td>2.0</td>\n",
       "      <td>2.0</td>\n",
       "      <td>-1.0</td>\n",
       "      <td>-1.0</td>\n",
       "      <td>...</td>\n",
       "      <td>0.0</td>\n",
       "      <td>0.0</td>\n",
       "      <td>0.0</td>\n",
       "      <td>0.0</td>\n",
       "      <td>689.0</td>\n",
       "      <td>0.0</td>\n",
       "      <td>0.0</td>\n",
       "      <td>0.0</td>\n",
       "      <td>0.0</td>\n",
       "      <td>1.0</td>\n",
       "    </tr>\n",
       "    <tr>\n",
       "      <th>1</th>\n",
       "      <td>2</td>\n",
       "      <td>120000</td>\n",
       "      <td>2.0</td>\n",
       "      <td>2.0</td>\n",
       "      <td>2.0</td>\n",
       "      <td>26.0</td>\n",
       "      <td>-1.0</td>\n",
       "      <td>2.0</td>\n",
       "      <td>0.0</td>\n",
       "      <td>0.0</td>\n",
       "      <td>...</td>\n",
       "      <td>3272.0</td>\n",
       "      <td>3455.0</td>\n",
       "      <td>3261.0</td>\n",
       "      <td>0.0</td>\n",
       "      <td>1000.0</td>\n",
       "      <td>1000.0</td>\n",
       "      <td>1000.0</td>\n",
       "      <td>0.0</td>\n",
       "      <td>2000.0</td>\n",
       "      <td>1.0</td>\n",
       "    </tr>\n",
       "    <tr>\n",
       "      <th>2</th>\n",
       "      <td>3</td>\n",
       "      <td>90000</td>\n",
       "      <td>2.0</td>\n",
       "      <td>2.0</td>\n",
       "      <td>2.0</td>\n",
       "      <td>34.0</td>\n",
       "      <td>0.0</td>\n",
       "      <td>0.0</td>\n",
       "      <td>0.0</td>\n",
       "      <td>0.0</td>\n",
       "      <td>...</td>\n",
       "      <td>14331.0</td>\n",
       "      <td>14948.0</td>\n",
       "      <td>15549.0</td>\n",
       "      <td>1518.0</td>\n",
       "      <td>1500.0</td>\n",
       "      <td>1000.0</td>\n",
       "      <td>1000.0</td>\n",
       "      <td>1000.0</td>\n",
       "      <td>5000.0</td>\n",
       "      <td>0.0</td>\n",
       "    </tr>\n",
       "    <tr>\n",
       "      <th>3</th>\n",
       "      <td>4</td>\n",
       "      <td>50000</td>\n",
       "      <td>2.0</td>\n",
       "      <td>2.0</td>\n",
       "      <td>1.0</td>\n",
       "      <td>37.0</td>\n",
       "      <td>0.0</td>\n",
       "      <td>0.0</td>\n",
       "      <td>0.0</td>\n",
       "      <td>0.0</td>\n",
       "      <td>...</td>\n",
       "      <td>28314.0</td>\n",
       "      <td>28959.0</td>\n",
       "      <td>29547.0</td>\n",
       "      <td>2000.0</td>\n",
       "      <td>2019.0</td>\n",
       "      <td>1200.0</td>\n",
       "      <td>1100.0</td>\n",
       "      <td>1069.0</td>\n",
       "      <td>1000.0</td>\n",
       "      <td>0.0</td>\n",
       "    </tr>\n",
       "    <tr>\n",
       "      <th>4</th>\n",
       "      <td>5</td>\n",
       "      <td>50000</td>\n",
       "      <td>1.0</td>\n",
       "      <td>2.0</td>\n",
       "      <td>1.0</td>\n",
       "      <td>57.0</td>\n",
       "      <td>-1.0</td>\n",
       "      <td>0.0</td>\n",
       "      <td>-1.0</td>\n",
       "      <td>0.0</td>\n",
       "      <td>...</td>\n",
       "      <td>20940.0</td>\n",
       "      <td>19146.0</td>\n",
       "      <td>19131.0</td>\n",
       "      <td>2000.0</td>\n",
       "      <td>36681.0</td>\n",
       "      <td>10000.0</td>\n",
       "      <td>9000.0</td>\n",
       "      <td>689.0</td>\n",
       "      <td>679.0</td>\n",
       "      <td>0.0</td>\n",
       "    </tr>\n",
       "  </tbody>\n",
       "</table>\n",
       "<p>5 rows × 25 columns</p>\n",
       "</div>"
      ],
      "text/plain": [
       "   ID  Total_Credito  Sexo  Estudios  Estado_Civil  Edad  PPSep2005  \\\n",
       "0   1          20000   2.0       2.0           1.0  24.0        2.0   \n",
       "1   2         120000   2.0       2.0           2.0  26.0       -1.0   \n",
       "2   3          90000   2.0       2.0           2.0  34.0        0.0   \n",
       "3   4          50000   2.0       2.0           1.0  37.0        0.0   \n",
       "4   5          50000   1.0       2.0           1.0  57.0       -1.0   \n",
       "\n",
       "   PPAgo2005  PPJul2005  PPJun2005  ...  TRJun2005  TRMay2005  TRAbr2005  \\\n",
       "0        2.0       -1.0       -1.0  ...        0.0        0.0        0.0   \n",
       "1        2.0        0.0        0.0  ...     3272.0     3455.0     3261.0   \n",
       "2        0.0        0.0        0.0  ...    14331.0    14948.0    15549.0   \n",
       "3        0.0        0.0        0.0  ...    28314.0    28959.0    29547.0   \n",
       "4        0.0       -1.0        0.0  ...    20940.0    19146.0    19131.0   \n",
       "\n",
       "   TPPSep2005  TPPAgo2005  TPPJul2005  TPPJun2005  TPPMay2005  TPPAbr2005    Y  \n",
       "0         0.0       689.0         0.0         0.0         0.0         0.0  1.0  \n",
       "1         0.0      1000.0      1000.0      1000.0         0.0      2000.0  1.0  \n",
       "2      1518.0      1500.0      1000.0      1000.0      1000.0      5000.0  0.0  \n",
       "3      2000.0      2019.0      1200.0      1100.0      1069.0      1000.0  0.0  \n",
       "4      2000.0     36681.0     10000.0      9000.0       689.0       679.0  0.0  \n",
       "\n",
       "[5 rows x 25 columns]"
      ]
     },
     "execution_count": 6,
     "metadata": {},
     "output_type": "execute_result"
    }
   ],
   "source": [
    "## Para que fuera mas claro para nosotros remplazaremos el nombre de las columnas\n",
    "newColumnNames = ['ID','Total_Credito', 'Sexo', 'Estudios', 'Estado_Civil', 'Edad', 'PPSep2005','PPAgo2005','PPJul2005','PPJun2005','PPMay2005','PPAbr2005', 'TRSep2005', 'TRAgo2005','TRJul2005','TRJun2005','TRMay2005','TRAbr2005', 'TPPSep2005','TPPAgo2005','TPPJul2005','TPPJun2005','TPPMay2005','TPPAbr2005', 'Y']\n",
    "# PP = Pagos Pasados\n",
    "# TR = Total del Recibo\n",
    "# TPP = Total de Pagos Pasados\n",
    "df.columns = newColumnNames # Remplazamos los nombres de las columnas\n",
    "nulldf['ColumnName'] = df.columns # Remplazamos los valores de las columnas en el dataframe de Nulos para mantener consistencia\n",
    "df.head()"
   ]
  },
  {
   "cell_type": "code",
   "execution_count": 7,
   "id": "8a6ac19b-8d90-4f7c-83b3-83bba6abda98",
   "metadata": {},
   "outputs": [
    {
     "data": {
      "text/html": [
       "<div>\n",
       "<style scoped>\n",
       "    .dataframe tbody tr th:only-of-type {\n",
       "        vertical-align: middle;\n",
       "    }\n",
       "\n",
       "    .dataframe tbody tr th {\n",
       "        vertical-align: top;\n",
       "    }\n",
       "\n",
       "    .dataframe thead th {\n",
       "        text-align: right;\n",
       "    }\n",
       "</style>\n",
       "<table border=\"1\" class=\"dataframe\">\n",
       "  <thead>\n",
       "    <tr style=\"text-align: right;\">\n",
       "      <th></th>\n",
       "      <th>ColumnName</th>\n",
       "      <th>True</th>\n",
       "      <th>False</th>\n",
       "    </tr>\n",
       "  </thead>\n",
       "  <tbody>\n",
       "    <tr>\n",
       "      <th>0</th>\n",
       "      <td>ID</td>\n",
       "      <td>30000</td>\n",
       "      <td>0</td>\n",
       "    </tr>\n",
       "    <tr>\n",
       "      <th>1</th>\n",
       "      <td>Total_Credito</td>\n",
       "      <td>30000</td>\n",
       "      <td>0</td>\n",
       "    </tr>\n",
       "    <tr>\n",
       "      <th>2</th>\n",
       "      <td>Sexo</td>\n",
       "      <td>29999</td>\n",
       "      <td>1</td>\n",
       "    </tr>\n",
       "    <tr>\n",
       "      <th>3</th>\n",
       "      <td>Estudios</td>\n",
       "      <td>29998</td>\n",
       "      <td>2</td>\n",
       "    </tr>\n",
       "    <tr>\n",
       "      <th>4</th>\n",
       "      <td>Estado_Civil</td>\n",
       "      <td>29998</td>\n",
       "      <td>2</td>\n",
       "    </tr>\n",
       "  </tbody>\n",
       "</table>\n",
       "</div>"
      ],
      "text/plain": [
       "      ColumnName   True  False\n",
       "0             ID  30000      0\n",
       "1  Total_Credito  30000      0\n",
       "2           Sexo  29999      1\n",
       "3       Estudios  29998      2\n",
       "4   Estado_Civil  29998      2"
      ]
     },
     "execution_count": 7,
     "metadata": {},
     "output_type": "execute_result"
    }
   ],
   "source": [
    "nulldf.head()"
   ]
  },
  {
   "cell_type": "markdown",
   "id": "92f068d9-e06b-4e07-9480-f80e8584d597",
   "metadata": {},
   "source": [
    "Lo primero que decidimos analizar fue si era conveniente descartar los valores faltantes."
   ]
  },
  {
   "cell_type": "code",
   "execution_count": 8,
   "id": "e711a611-01a5-48ac-8cf9-397f22d8054b",
   "metadata": {},
   "outputs": [
    {
     "data": {
      "text/html": [
       "<div>\n",
       "<style scoped>\n",
       "    .dataframe tbody tr th:only-of-type {\n",
       "        vertical-align: middle;\n",
       "    }\n",
       "\n",
       "    .dataframe tbody tr th {\n",
       "        vertical-align: top;\n",
       "    }\n",
       "\n",
       "    .dataframe thead th {\n",
       "        text-align: right;\n",
       "    }\n",
       "</style>\n",
       "<table border=\"1\" class=\"dataframe\">\n",
       "  <thead>\n",
       "    <tr style=\"text-align: right;\">\n",
       "      <th></th>\n",
       "      <th>ID</th>\n",
       "      <th>Total_Credito</th>\n",
       "      <th>Sexo</th>\n",
       "      <th>Estudios</th>\n",
       "      <th>Estado_Civil</th>\n",
       "      <th>Edad</th>\n",
       "      <th>PPSep2005</th>\n",
       "      <th>PPAgo2005</th>\n",
       "      <th>PPJul2005</th>\n",
       "      <th>PPJun2005</th>\n",
       "      <th>...</th>\n",
       "      <th>TRJun2005</th>\n",
       "      <th>TRMay2005</th>\n",
       "      <th>TRAbr2005</th>\n",
       "      <th>TPPSep2005</th>\n",
       "      <th>TPPAgo2005</th>\n",
       "      <th>TPPJul2005</th>\n",
       "      <th>TPPJun2005</th>\n",
       "      <th>TPPMay2005</th>\n",
       "      <th>TPPAbr2005</th>\n",
       "      <th>Y</th>\n",
       "    </tr>\n",
       "  </thead>\n",
       "  <tbody>\n",
       "    <tr>\n",
       "      <th>0</th>\n",
       "      <td>1</td>\n",
       "      <td>20000</td>\n",
       "      <td>2.0</td>\n",
       "      <td>2.0</td>\n",
       "      <td>1.0</td>\n",
       "      <td>24.0</td>\n",
       "      <td>2.0</td>\n",
       "      <td>2.0</td>\n",
       "      <td>-1.0</td>\n",
       "      <td>-1.0</td>\n",
       "      <td>...</td>\n",
       "      <td>0.0</td>\n",
       "      <td>0.0</td>\n",
       "      <td>0.0</td>\n",
       "      <td>0.0</td>\n",
       "      <td>689.0</td>\n",
       "      <td>0.0</td>\n",
       "      <td>0.0</td>\n",
       "      <td>0.0</td>\n",
       "      <td>0.0</td>\n",
       "      <td>1.0</td>\n",
       "    </tr>\n",
       "    <tr>\n",
       "      <th>1</th>\n",
       "      <td>2</td>\n",
       "      <td>120000</td>\n",
       "      <td>2.0</td>\n",
       "      <td>2.0</td>\n",
       "      <td>2.0</td>\n",
       "      <td>26.0</td>\n",
       "      <td>-1.0</td>\n",
       "      <td>2.0</td>\n",
       "      <td>0.0</td>\n",
       "      <td>0.0</td>\n",
       "      <td>...</td>\n",
       "      <td>3272.0</td>\n",
       "      <td>3455.0</td>\n",
       "      <td>3261.0</td>\n",
       "      <td>0.0</td>\n",
       "      <td>1000.0</td>\n",
       "      <td>1000.0</td>\n",
       "      <td>1000.0</td>\n",
       "      <td>0.0</td>\n",
       "      <td>2000.0</td>\n",
       "      <td>1.0</td>\n",
       "    </tr>\n",
       "    <tr>\n",
       "      <th>2</th>\n",
       "      <td>3</td>\n",
       "      <td>90000</td>\n",
       "      <td>2.0</td>\n",
       "      <td>2.0</td>\n",
       "      <td>2.0</td>\n",
       "      <td>34.0</td>\n",
       "      <td>0.0</td>\n",
       "      <td>0.0</td>\n",
       "      <td>0.0</td>\n",
       "      <td>0.0</td>\n",
       "      <td>...</td>\n",
       "      <td>14331.0</td>\n",
       "      <td>14948.0</td>\n",
       "      <td>15549.0</td>\n",
       "      <td>1518.0</td>\n",
       "      <td>1500.0</td>\n",
       "      <td>1000.0</td>\n",
       "      <td>1000.0</td>\n",
       "      <td>1000.0</td>\n",
       "      <td>5000.0</td>\n",
       "      <td>0.0</td>\n",
       "    </tr>\n",
       "    <tr>\n",
       "      <th>3</th>\n",
       "      <td>4</td>\n",
       "      <td>50000</td>\n",
       "      <td>2.0</td>\n",
       "      <td>2.0</td>\n",
       "      <td>1.0</td>\n",
       "      <td>37.0</td>\n",
       "      <td>0.0</td>\n",
       "      <td>0.0</td>\n",
       "      <td>0.0</td>\n",
       "      <td>0.0</td>\n",
       "      <td>...</td>\n",
       "      <td>28314.0</td>\n",
       "      <td>28959.0</td>\n",
       "      <td>29547.0</td>\n",
       "      <td>2000.0</td>\n",
       "      <td>2019.0</td>\n",
       "      <td>1200.0</td>\n",
       "      <td>1100.0</td>\n",
       "      <td>1069.0</td>\n",
       "      <td>1000.0</td>\n",
       "      <td>0.0</td>\n",
       "    </tr>\n",
       "    <tr>\n",
       "      <th>4</th>\n",
       "      <td>5</td>\n",
       "      <td>50000</td>\n",
       "      <td>1.0</td>\n",
       "      <td>2.0</td>\n",
       "      <td>1.0</td>\n",
       "      <td>57.0</td>\n",
       "      <td>-1.0</td>\n",
       "      <td>0.0</td>\n",
       "      <td>-1.0</td>\n",
       "      <td>0.0</td>\n",
       "      <td>...</td>\n",
       "      <td>20940.0</td>\n",
       "      <td>19146.0</td>\n",
       "      <td>19131.0</td>\n",
       "      <td>2000.0</td>\n",
       "      <td>36681.0</td>\n",
       "      <td>10000.0</td>\n",
       "      <td>9000.0</td>\n",
       "      <td>689.0</td>\n",
       "      <td>679.0</td>\n",
       "      <td>0.0</td>\n",
       "    </tr>\n",
       "  </tbody>\n",
       "</table>\n",
       "<p>5 rows × 25 columns</p>\n",
       "</div>"
      ],
      "text/plain": [
       "   ID  Total_Credito  Sexo  Estudios  Estado_Civil  Edad  PPSep2005  \\\n",
       "0   1          20000   2.0       2.0           1.0  24.0        2.0   \n",
       "1   2         120000   2.0       2.0           2.0  26.0       -1.0   \n",
       "2   3          90000   2.0       2.0           2.0  34.0        0.0   \n",
       "3   4          50000   2.0       2.0           1.0  37.0        0.0   \n",
       "4   5          50000   1.0       2.0           1.0  57.0       -1.0   \n",
       "\n",
       "   PPAgo2005  PPJul2005  PPJun2005  ...  TRJun2005  TRMay2005  TRAbr2005  \\\n",
       "0        2.0       -1.0       -1.0  ...        0.0        0.0        0.0   \n",
       "1        2.0        0.0        0.0  ...     3272.0     3455.0     3261.0   \n",
       "2        0.0        0.0        0.0  ...    14331.0    14948.0    15549.0   \n",
       "3        0.0        0.0        0.0  ...    28314.0    28959.0    29547.0   \n",
       "4        0.0       -1.0        0.0  ...    20940.0    19146.0    19131.0   \n",
       "\n",
       "   TPPSep2005  TPPAgo2005  TPPJul2005  TPPJun2005  TPPMay2005  TPPAbr2005    Y  \n",
       "0         0.0       689.0         0.0         0.0         0.0         0.0  1.0  \n",
       "1         0.0      1000.0      1000.0      1000.0         0.0      2000.0  1.0  \n",
       "2      1518.0      1500.0      1000.0      1000.0      1000.0      5000.0  0.0  \n",
       "3      2000.0      2019.0      1200.0      1100.0      1069.0      1000.0  0.0  \n",
       "4      2000.0     36681.0     10000.0      9000.0       689.0       679.0  0.0  \n",
       "\n",
       "[5 rows x 25 columns]"
      ]
     },
     "execution_count": 8,
     "metadata": {},
     "output_type": "execute_result"
    }
   ],
   "source": [
    "dropdf = df.copy() \n",
    "dropdf.dropna(inplace=True) #Eliminamos los valores nulos, asignando esto a un nuevo data frame para mantener nuestros datos originales\n",
    "dropdf.head()"
   ]
  },
  {
   "cell_type": "code",
   "execution_count": 9,
   "id": "ae747a00-cedf-4d86-bbe8-34cfa02752e4",
   "metadata": {},
   "outputs": [
    {
     "name": "stdout",
     "output_type": "stream",
     "text": [
      "ORIGINAL SHAPE:  (30000, 25)\n",
      "DROP NA SHAPE:  (29958, 25)\n"
     ]
    }
   ],
   "source": [
    "print(\"ORIGINAL SHAPE: \", df.shape)\n",
    "print(\"DROP NA SHAPE: \", dropdf.shape)"
   ]
  },
  {
   "cell_type": "code",
   "execution_count": 10,
   "id": "94bf1c88-bd9e-4217-9b78-76087c473027",
   "metadata": {},
   "outputs": [
    {
     "data": {
      "text/plain": [
       "False"
      ]
     },
     "execution_count": 10,
     "metadata": {},
     "output_type": "execute_result"
    }
   ],
   "source": [
    "dropdf.isna().values.any() # Verificamos que ya no existan valores nulos."
   ]
  },
  {
   "cell_type": "markdown",
   "id": "cbebdffa-535b-4176-a700-cd2e08ddd592",
   "metadata": {},
   "source": [
    "Se han eliminado un total de 42 filas de datos del conjunto de datos. Considerando el tamaño original del conjunto, podria ser no tan relevante.\n",
    "\n",
    "Definitivamente podriamos continuar usando este nuevo conjunto de dato y agregar las anotaciones pertinentes y teniendo precaucion en los resultados obtenidos al modelar. \n",
    "\n",
    "Sin embargo, si queremos realizar un analisis de datos sin eliminar informacion necesitamos una manera no tan drastica para el tratamiento de datos nulos."
   ]
  },
  {
   "cell_type": "markdown",
   "id": "5169c0d6-6b9d-4740-8613-a9adb8656ae4",
   "metadata": {},
   "source": [
    "## ANALIZANDO DATOS NULOS Y TECNICAS DE LIMPIEZA"
   ]
  },
  {
   "cell_type": "code",
   "execution_count": 11,
   "id": "f65d4038-937e-40a7-a3f5-bad5eba57b3c",
   "metadata": {},
   "outputs": [
    {
     "name": "stdout",
     "output_type": "stream",
     "text": [
      "ORIGINAL DATAFRAME SHAPE:  (30000, 25)\n",
      "DATAFRAME LIMPIO SHAPE ORIGINAL:  (30000, 25)\n"
     ]
    }
   ],
   "source": [
    "# Copiamos nuestros datos a un dataframe nuevo, donde realizaremos las transformaciones y acciones necesarias de limpieza\n",
    "dfLimpio = df.copy()\n",
    "print(\"ORIGINAL DATAFRAME SHAPE: \", df.shape)\n",
    "print(\"DATAFRAME LIMPIO SHAPE ORIGINAL: \", dfLimpio.shape)"
   ]
  },
  {
   "cell_type": "markdown",
   "id": "18312b23-5174-4f01-a6bd-1a28df086166",
   "metadata": {},
   "source": [
    "Analizaremos las acciones correspondientes a los datos faltantes por columna y llevaremos a cabo la que consideremos la mejor tecnica de limpieza. Para esto, nos conviene primero saber el tipo de datos almacenados en cada variable:"
   ]
  },
  {
   "cell_type": "code",
   "execution_count": 12,
   "id": "912673f9-3026-4b7a-8c75-75acfd6331bc",
   "metadata": {},
   "outputs": [
    {
     "data": {
      "text/plain": [
       "ID                 int64\n",
       "Total_Credito      int64\n",
       "Sexo             float64\n",
       "Estudios         float64\n",
       "Estado_Civil     float64\n",
       "Edad             float64\n",
       "PPSep2005        float64\n",
       "PPAgo2005        float64\n",
       "PPJul2005        float64\n",
       "PPJun2005        float64\n",
       "PPMay2005        float64\n",
       "PPAbr2005        float64\n",
       "TRSep2005        float64\n",
       "TRAgo2005        float64\n",
       "TRJul2005        float64\n",
       "TRJun2005        float64\n",
       "TRMay2005        float64\n",
       "TRAbr2005        float64\n",
       "TPPSep2005       float64\n",
       "TPPAgo2005       float64\n",
       "TPPJul2005       float64\n",
       "TPPJun2005       float64\n",
       "TPPMay2005       float64\n",
       "TPPAbr2005       float64\n",
       "Y                float64\n",
       "dtype: object"
      ]
     },
     "execution_count": 12,
     "metadata": {},
     "output_type": "execute_result"
    }
   ],
   "source": [
    "dfLimpio.dtypes"
   ]
  },
  {
   "cell_type": "markdown",
   "id": "6aad544f-07eb-46fc-ae7c-619522af5472",
   "metadata": {
    "tags": []
   },
   "source": [
    "## Procedemos entonces al analisis por columna:\n",
    "### En la Columna SEXO (2) Solo existe un dato faltante. El tipo de dato es flotantes de 0 a 1. Consideramos por lo tanto que estos valores han sido ya codificados con un encoder para poder ser utilizados al ser esta una variable categorica. \n",
    "Solo nos ocuparemos pues de remplazar valores faltantes."
   ]
  },
  {
   "cell_type": "code",
   "execution_count": 13,
   "id": "97d6467a-7afe-43da-b8dd-ce4fcb9a8e91",
   "metadata": {},
   "outputs": [
    {
     "data": {
      "text/plain": [
       "True"
      ]
     },
     "execution_count": 13,
     "metadata": {},
     "output_type": "execute_result"
    }
   ],
   "source": [
    "# Primero como sabemos tenemos un valor Nulo existente en esta columna, por lo que debe ser limpiado.\n",
    "dfLimpio['Sexo'].isnull().values.any()"
   ]
  },
  {
   "cell_type": "code",
   "execution_count": 14,
   "id": "510cdbe1-8777-4f77-a2f7-4aace54a6815",
   "metadata": {},
   "outputs": [
    {
     "data": {
      "text/plain": [
       "2.0    18112\n",
       "1.0    11887\n",
       "Name: Sexo, dtype: int64"
      ]
     },
     "execution_count": 14,
     "metadata": {},
     "output_type": "execute_result"
    }
   ],
   "source": [
    "# Verificamos el numero de Valores en la columna Sexo\n",
    "dfLimpio['Sexo'].value_counts()"
   ]
  },
  {
   "cell_type": "markdown",
   "id": "9a6ee12f-2630-426b-a189-4e4ad5c79afc",
   "metadata": {},
   "source": [
    "Para este caso consideramos pertinente remplazar el valor no existente con aquel que se repite mas: Moda. Debido a que es un valor categorico, la importancia de un solo valor faltante hace conveniente remplazarlo por aquel que sea mas comun en el conjunto de datos, sin un gran costo al modelo futuro."
   ]
  },
  {
   "cell_type": "code",
   "execution_count": 15,
   "id": "373555b1-e4e8-4744-a6aa-ae02236462bb",
   "metadata": {},
   "outputs": [
    {
     "name": "stdout",
     "output_type": "stream",
     "text": [
      "HAY VALORES NULOS?:  False\n"
     ]
    }
   ],
   "source": [
    "# La moda es 2.0 o lo que es equivalente a Mujer (Female) por lo que remplazaremos con ese valor la celda que contiene null\n",
    "moda = dfLimpio.Sexo.mode()[0]\n",
    "# Remplazamos el registro faltante\n",
    "dfLimpio.Sexo.fillna(moda, inplace=True)\n",
    "print(\"HAY VALORES NULOS?: \", dfLimpio['Sexo'].isnull().values.any()) "
   ]
  },
  {
   "cell_type": "code",
   "execution_count": 16,
   "id": "d689cbbe-d1f7-4c6f-9ba3-24b59f6beece",
   "metadata": {},
   "outputs": [
    {
     "data": {
      "text/plain": [
       "2.0    18113\n",
       "1.0    11887\n",
       "Name: Sexo, dtype: int64"
      ]
     },
     "execution_count": 16,
     "metadata": {},
     "output_type": "execute_result"
    }
   ],
   "source": [
    "# Despues verificamos que solo existan 2 valores. Ahora se muestra el registro añadido a los valores de femenino\n",
    "dfLimpio['Sexo'].value_counts()"
   ]
  },
  {
   "cell_type": "markdown",
   "id": "2321ce04-9876-41dd-a7e3-5893110d0731",
   "metadata": {},
   "source": [
    "### Para la columnas con valores categoricos, consideramos el mismo tratamiento descrito anteriormente por lo que se llevara a cabo a continuacion\n",
    "\n",
    "Estas columnas son\n",
    "- Estudios\n",
    "- Estado_Civil"
   ]
  },
  {
   "cell_type": "code",
   "execution_count": 17,
   "id": "8fc315f7-c154-47d0-a23c-ffd5adf019be",
   "metadata": {},
   "outputs": [
    {
     "name": "stdout",
     "output_type": "stream",
     "text": [
      "Hay Nulos en Estudios:  True\n",
      "Hay Nulos en Estado Civil:  True\n"
     ]
    }
   ],
   "source": [
    "# Primero verificamos los valores nulos\n",
    "print('Hay Nulos en Estudios: ',dfLimpio['Estudios'].isnull().values.any())\n",
    "print('Hay Nulos en Estado Civil: ',dfLimpio['Estado_Civil'].isnull().values.any())"
   ]
  },
  {
   "cell_type": "code",
   "execution_count": 18,
   "id": "09c750e9-bfdc-4410-a5e8-38983fb009dd",
   "metadata": {},
   "outputs": [
    {
     "name": "stdout",
     "output_type": "stream",
     "text": [
      "Numero de Registros en Estudios:\n",
      " 2.0    14030\n",
      "1.0    10585\n",
      "3.0     4915\n",
      "5.0      280\n",
      "4.0      123\n",
      "6.0       51\n",
      "0.0       14\n",
      "Name: Estudios, dtype: int64\n",
      "\n",
      "Numero de Registros en Estado Civil:\n",
      " 2.0    15964\n",
      "1.0    13657\n",
      "3.0      323\n",
      "0.0       54\n",
      "Name: Estado_Civil, dtype: int64\n",
      "\n",
      "Numero de Nulos en Estudios: 2\n",
      "Numero de Nulos en Estado Civil: 2\n"
     ]
    }
   ],
   "source": [
    "# Verificamos el numero de valores antes de la limpieza en cada uno\n",
    "print('Numero de Registros en Estudios:\\n',dfLimpio['Estudios'].value_counts())\n",
    "print('\\nNumero de Registros en Estado Civil:\\n',dfLimpio['Estado_Civil'].value_counts())\n",
    "print('\\nNumero de Nulos en Estudios:',nulldf.loc[3,'False'])\n",
    "print('Numero de Nulos en Estado Civil:',nulldf.loc[4,'False'])\n",
    "\n"
   ]
  },
  {
   "cell_type": "code",
   "execution_count": 19,
   "id": "88ef7987-f0ce-412e-8bbe-95e5c8e7b0a5",
   "metadata": {},
   "outputs": [
    {
     "name": "stdout",
     "output_type": "stream",
     "text": [
      "La moda de Estudios es:  2.0\n",
      "La moda de Estado Civil es:  2.0\n"
     ]
    }
   ],
   "source": [
    "# Calculamos la Moda en ambos casos:\n",
    "modaEstudios = dfLimpio.Estudios.mode()[0]\n",
    "modaEstadoCivil = dfLimpio.Estado_Civil.mode()[0]\n",
    "print('La moda de Estudios es: ', modaEstudios)\n",
    "print('La moda de Estado Civil es: ', modaEstadoCivil)"
   ]
  },
  {
   "cell_type": "code",
   "execution_count": 20,
   "id": "14a451d4-d436-4522-8fff-ce03439e8fa5",
   "metadata": {},
   "outputs": [
    {
     "name": "stdout",
     "output_type": "stream",
     "text": [
      "HAY VALORES NULOS EN ESTUDIOS?:  False\n",
      "HAY VALORES NULOS EN ESTADO CIVIL?:  False\n",
      "\n",
      "Numero de Registros en Estudios:\n",
      " 2.0    14032\n",
      "1.0    10585\n",
      "3.0     4915\n",
      "5.0      280\n",
      "4.0      123\n",
      "6.0       51\n",
      "0.0       14\n",
      "Name: Estudios, dtype: int64\n",
      "\n",
      "Numero de Registros en Estado Civil:\n",
      " 2.0    15966\n",
      "1.0    13657\n",
      "3.0      323\n",
      "0.0       54\n",
      "Name: Estado_Civil, dtype: int64\n"
     ]
    }
   ],
   "source": [
    "# Remplazamos por la moda los registros faltantes\n",
    "dfLimpio.Estudios.fillna(modaEstudios, inplace=True)\n",
    "dfLimpio.Estado_Civil.fillna(modaEstadoCivil, inplace=True)\n",
    "\n",
    "\n",
    "# Verificamos que los cambios se hayan efectuado.\n",
    "print(\"HAY VALORES NULOS EN ESTUDIOS?: \", dfLimpio['Estudios'].isnull().values.any()) \n",
    "print(\"HAY VALORES NULOS EN ESTADO CIVIL?: \", dfLimpio['Estado_Civil'].isnull().values.any()) \n",
    "\n",
    "# Verificamos que el numero de Registros haya incrementado en la moda\n",
    "print('\\nNumero de Registros en Estudios:\\n',dfLimpio['Estudios'].value_counts())\n",
    "print('\\nNumero de Registros en Estado Civil:\\n',dfLimpio['Estado_Civil'].value_counts())\n"
   ]
  },
  {
   "cell_type": "markdown",
   "id": "1c29e7bf-b886-463e-a7cc-7feda74de875",
   "metadata": {},
   "source": [
    "Ahora bien como vemos, ya no existen datos de registros faltantes. Sin embargo de acuerdo a la informacion brindade del conjunto de datos hay errores en los valores de los Registros.\n",
    "\n",
    "- Estudios: Los valores de acuerdo a la guia son: (1 = graduate school; 2 = university; 3 = high school; 4 = others. Se puede observar que hay hasta 7 valores diferentes (0-6) por lo que conviene asumir que para este estudio asumiremos que los valores 0, 5, 6 se sumaran a 4 (Otros) ya que consideramos que de esta manera es como se diseño el modelo mencionado en el estudio.\n",
    "\n",
    "- Estado Civil: Mismo caso que el anterior, los valores esperados en la guia son: (1 = married; 2 = single; 3 = others) Por lo que 1 y 2 permaneceran intactos, y los valores 0 los añadiremos a el valor 3 (Otros)\n",
    "\n",
    "Por lo que Aplicaremos la transformación map() de Python para llevar a cabo la agrupación de los registros considerados como 'otros' y que tambien son los de menor frecuencia. Lo haremos mediante un diccionario. En la notación a:b, el entero \"a\" es sustituido por \"b\"."
   ]
  },
  {
   "cell_type": "code",
   "execution_count": 21,
   "id": "4dab5020-ce64-4d03-94fe-410b1bbcbcc4",
   "metadata": {},
   "outputs": [
    {
     "name": "stdout",
     "output_type": "stream",
     "text": [
      "\n",
      "Numero de Registros en Estudios:\n",
      " 2    14032\n",
      "1    10585\n",
      "3     4915\n",
      "4      468\n",
      "Name: Estudios, dtype: int64\n",
      "\n",
      "Numero de Registros en Estado Civil:\n",
      " 2    15966\n",
      "1    13657\n",
      "3      377\n",
      "Name: Estado_Civil, dtype: int64\n"
     ]
    }
   ],
   "source": [
    "# Sustituimos los valores 0, 5 y 6 por un 4 (Otros). Tenemos que mapear los valores que no modificaran su valor 1,2,3,4\n",
    "dfLimpio['Estudios'] = dfLimpio['Estudios'].map({0:4, 1:1, 2:2, 3:3, 4:4, 5:4, 6:4})\n",
    "# Sustitoimos el valor 0 por un 3(Otros). Tenemos que mapear los valores que no modificaran su valor 1,2,3\n",
    "dfLimpio['Estado_Civil'] = dfLimpio['Estado_Civil'].map({0:3, 1:1, 2:2, 3:3})\n",
    "\n",
    "# Verificamos de nuevo que los cambios se hayan efectuado.\n",
    "print('\\nNumero de Registros en Estudios:\\n',dfLimpio['Estudios'].value_counts())\n",
    "print('\\nNumero de Registros en Estado Civil:\\n',dfLimpio['Estado_Civil'].value_counts())"
   ]
  },
  {
   "cell_type": "markdown",
   "id": "3fab7a74-d3c4-498a-9b96-a71ae0ed4de0",
   "metadata": {},
   "source": [
    "## Ahora bien, para la variable de edad, este es una variable no categorica, por lo que usar la moda no es algo recomendado.\n",
    "Primero que nada necesitamos analizar los valores de las edades, e intentar encontrar un error de entrada de datos. Ejemplo: Una edad menor a 0 o un outlier de edad alto."
   ]
  },
  {
   "cell_type": "code",
   "execution_count": 22,
   "id": "96c32116-a66a-4166-a047-4fef67ceff2f",
   "metadata": {},
   "outputs": [
    {
     "data": {
      "image/png": "[encoded data removed]",
      "text/plain": [
       "<Figure size 640x480 with 1 Axes>"
      ]
     },
     "metadata": {},
     "output_type": "display_data"
    }
   ],
   "source": [
    "# Haremos este estudio de manera visual\n",
    "import matplotlib.pyplot as plt\n",
    "\n",
    "edad = dfLimpio.Edad.unique()\n",
    "X = np.arange(min(edad), max(edad-1), 1) \n",
    "\n",
    "plt.plot(X, edad, 'o')\n",
    "plt.title('Rango de Edades en Conjunto de Datos')\n",
    "\n",
    "plt.xlabel('Edad en años')\n",
    "plt.ylabel('Edades')\n",
    "plt.show()"
   ]
  },
  {
   "cell_type": "markdown",
   "id": "b6f6ed60-fd7e-45d5-8d8a-fb388ebc8c0a",
   "metadata": {},
   "source": [
    "Observando el grafico nos dimos cuenta que no hay un outlier en edad. Pero si sabemos que hay valores faltantes.\n",
    "Por lo cual debemos de encontrar la mejor manera de usar estos datos para rellenar los valores nulos con la mejor aproximacion.\n"
   ]
  },
  {
   "cell_type": "code",
   "execution_count": 23,
   "id": "54a68620-092e-4c24-ab5b-8895b9894cac",
   "metadata": {},
   "outputs": [
    {
     "data": {
      "text/plain": [
       "count    29995.000000\n",
       "mean        35.484214\n",
       "std          9.218024\n",
       "min         21.000000\n",
       "25%         28.000000\n",
       "50%         34.000000\n",
       "75%         41.000000\n",
       "max         79.000000\n",
       "Name: Edad, dtype: float64"
      ]
     },
     "execution_count": 23,
     "metadata": {},
     "output_type": "execute_result"
    }
   ],
   "source": [
    "# Primero obtendremos las medidas estadisticas de la columna edad\n",
    "dfLimpio.Edad.describe()"
   ]
  },
  {
   "cell_type": "markdown",
   "id": "f1bf980a-4486-4b44-b69a-147536ef6f2d",
   "metadata": {},
   "source": [
    "Como podemos observar la media es de 35.4  años lo cual nos parece es un buen valor de remplazo, solo sera convertido a el entero mas cercano, en este caso 35"
   ]
  },
  {
   "cell_type": "code",
   "execution_count": 24,
   "id": "8a2ad115-59f5-4ef5-a159-c26ff1577a11",
   "metadata": {},
   "outputs": [
    {
     "name": "stdout",
     "output_type": "stream",
     "text": [
      "La Media es:  35\n",
      "Numero de Registros en Edad Media:\n",
      " 1113\n",
      "Numero de Nulos en Edad: 5\n"
     ]
    }
   ],
   "source": [
    "# Calculamos la Media, \n",
    "media = int(dfLimpio.Edad.mean())\n",
    "print('La Media es: ', media)\n",
    "# Verificamos el numero de valores antes de la limpieza en cada uno\n",
    "print('Numero de Registros en Edad Media:\\n',dfLimpio['Edad'].value_counts()[35.0])\n",
    "print('Numero de Nulos en Edad:',nulldf.loc[5,'False'])\n"
   ]
  },
  {
   "cell_type": "code",
   "execution_count": 25,
   "id": "3ceb012e-afea-491f-8114-22e0ab5eda5b",
   "metadata": {},
   "outputs": [
    {
     "name": "stdout",
     "output_type": "stream",
     "text": [
      "HAY VALORES NULOS EN EDAD?:  False\n",
      "\n",
      "Numero de Registros en Edad Media:\n",
      " 1118\n"
     ]
    }
   ],
   "source": [
    "# Remplazamos la Edad en los 5 registros por la media de las edades\n",
    "dfLimpio.Edad.fillna(media, inplace=True)\n",
    "\n",
    "\n",
    "# Verificamos que los cambios se hayan efectuado.\n",
    "print(\"HAY VALORES NULOS EN EDAD?: \", dfLimpio['Edad'].isnull().values.any()) \n",
    "\n",
    "# Verificamos que el numero de Registros haya incrementado en la moda\n",
    "print('\\nNumero de Registros en Edad Media:\\n',dfLimpio['Edad'].value_counts()[35.0])\n"
   ]
  },
  {
   "cell_type": "markdown",
   "id": "70c6b0ee-4bb1-4b58-9798-7e665a76c9d7",
   "metadata": {},
   "source": [
    "Observamos tambien que este dato indica un numero entero, y su tipo actual es flotante. Por lo que consideramos necesario convertir a entero."
   ]
  },
  {
   "cell_type": "code",
   "execution_count": 26,
   "id": "4bfd1b6f-cb60-406e-bc12-e7200c9db50a",
   "metadata": {},
   "outputs": [
    {
     "name": "stdout",
     "output_type": "stream",
     "text": [
      "Tipo de dato en Edad Original:  float64\n",
      "Nuevo tipo de dato en Edad:  int64\n"
     ]
    }
   ],
   "source": [
    "print('Tipo de dato en Edad Original: ', dfLimpio.Edad.dtype)\n",
    "dfLimpio.Edad = dfLimpio.Edad.astype(int)\n",
    "print('Nuevo tipo de dato en Edad: ', dfLimpio.Edad.dtype)"
   ]
  },
  {
   "cell_type": "markdown",
   "id": "acac48c5-12b1-452e-9207-e6a467cc02f1",
   "metadata": {},
   "source": [
    "## Para las columnas 6-11 que indican el historial de pagos, hablos de una variable categorica con los siguientes valores esperados: \n",
    "\n",
    "**-1 = pay duly; 1 = payment delay for one month; 2 = payment delay for two months; . . .; 8 = payment delay for eight months; 9 = payment delay for nine months and above.**\n",
    "\n",
    "Lo primero a realizar es identificar la estrategia para los datos que no se cuente con informacion."
   ]
  },
  {
   "cell_type": "code",
   "execution_count": 27,
   "id": "fb350ddc-f021-4d49-be2a-47ba5d530b83",
   "metadata": {},
   "outputs": [
    {
     "data": {
      "text/html": [
       "<div>\n",
       "<style scoped>\n",
       "    .dataframe tbody tr th:only-of-type {\n",
       "        vertical-align: middle;\n",
       "    }\n",
       "\n",
       "    .dataframe tbody tr th {\n",
       "        vertical-align: top;\n",
       "    }\n",
       "\n",
       "    .dataframe thead th {\n",
       "        text-align: right;\n",
       "    }\n",
       "</style>\n",
       "<table border=\"1\" class=\"dataframe\">\n",
       "  <thead>\n",
       "    <tr style=\"text-align: right;\">\n",
       "      <th></th>\n",
       "      <th>ColumnName</th>\n",
       "      <th>True</th>\n",
       "      <th>False</th>\n",
       "    </tr>\n",
       "  </thead>\n",
       "  <tbody>\n",
       "    <tr>\n",
       "      <th>6</th>\n",
       "      <td>PPSep2005</td>\n",
       "      <td>29997</td>\n",
       "      <td>3</td>\n",
       "    </tr>\n",
       "    <tr>\n",
       "      <th>7</th>\n",
       "      <td>PPAgo2005</td>\n",
       "      <td>29995</td>\n",
       "      <td>5</td>\n",
       "    </tr>\n",
       "    <tr>\n",
       "      <th>8</th>\n",
       "      <td>PPJul2005</td>\n",
       "      <td>29993</td>\n",
       "      <td>7</td>\n",
       "    </tr>\n",
       "    <tr>\n",
       "      <th>9</th>\n",
       "      <td>PPJun2005</td>\n",
       "      <td>29991</td>\n",
       "      <td>9</td>\n",
       "    </tr>\n",
       "    <tr>\n",
       "      <th>10</th>\n",
       "      <td>PPMay2005</td>\n",
       "      <td>29984</td>\n",
       "      <td>16</td>\n",
       "    </tr>\n",
       "    <tr>\n",
       "      <th>11</th>\n",
       "      <td>PPAbr2005</td>\n",
       "      <td>29986</td>\n",
       "      <td>14</td>\n",
       "    </tr>\n",
       "  </tbody>\n",
       "</table>\n",
       "</div>"
      ],
      "text/plain": [
       "   ColumnName   True  False\n",
       "6   PPSep2005  29997      3\n",
       "7   PPAgo2005  29995      5\n",
       "8   PPJul2005  29993      7\n",
       "9   PPJun2005  29991      9\n",
       "10  PPMay2005  29984     16\n",
       "11  PPAbr2005  29986     14"
      ]
     },
     "execution_count": 27,
     "metadata": {},
     "output_type": "execute_result"
    }
   ],
   "source": [
    "# Obtenemos del data frame de datos faltantes cuantos hay en estas columnas.\n",
    "nulldf[6:12]"
   ]
  },
  {
   "cell_type": "markdown",
   "id": "32bf4210-3db8-42dc-a7eb-686938d0db7c",
   "metadata": {},
   "source": [
    "Como podemos observar son de las columnas con mas datos faltantes, a su vez son columnas relacionadas ya que indican pagos en diferentes meses del añ 2005. Por lo que la estrategia a elegir debe ser igual para todas para no causar sesgos."
   ]
  },
  {
   "cell_type": "code",
   "execution_count": 28,
   "id": "d1c14ca4-9093-4622-bc39-9e2011a11dd2",
   "metadata": {},
   "outputs": [
    {
     "data": {
      "text/html": [
       "<div>\n",
       "<style scoped>\n",
       "    .dataframe tbody tr th:only-of-type {\n",
       "        vertical-align: middle;\n",
       "    }\n",
       "\n",
       "    .dataframe tbody tr th {\n",
       "        vertical-align: top;\n",
       "    }\n",
       "\n",
       "    .dataframe thead th {\n",
       "        text-align: right;\n",
       "    }\n",
       "</style>\n",
       "<table border=\"1\" class=\"dataframe\">\n",
       "  <thead>\n",
       "    <tr style=\"text-align: right;\">\n",
       "      <th></th>\n",
       "      <th>PPSep2005</th>\n",
       "      <th>PPAgo2005</th>\n",
       "      <th>PPJul2005</th>\n",
       "      <th>PPJun2005</th>\n",
       "      <th>PPMay2005</th>\n",
       "      <th>PPAbr2005</th>\n",
       "    </tr>\n",
       "  </thead>\n",
       "  <tbody>\n",
       "    <tr>\n",
       "      <th>count</th>\n",
       "      <td>29997.000000</td>\n",
       "      <td>29995.000000</td>\n",
       "      <td>29993.000000</td>\n",
       "      <td>29991.000000</td>\n",
       "      <td>29984.000000</td>\n",
       "      <td>29986.000000</td>\n",
       "    </tr>\n",
       "    <tr>\n",
       "      <th>mean</th>\n",
       "      <td>-0.016635</td>\n",
       "      <td>-0.133689</td>\n",
       "      <td>-0.166405</td>\n",
       "      <td>-0.220800</td>\n",
       "      <td>-0.266342</td>\n",
       "      <td>-0.291136</td>\n",
       "    </tr>\n",
       "    <tr>\n",
       "      <th>std</th>\n",
       "      <td>1.123829</td>\n",
       "      <td>1.197254</td>\n",
       "      <td>1.196048</td>\n",
       "      <td>1.169153</td>\n",
       "      <td>1.133296</td>\n",
       "      <td>1.150134</td>\n",
       "    </tr>\n",
       "    <tr>\n",
       "      <th>min</th>\n",
       "      <td>-2.000000</td>\n",
       "      <td>-2.000000</td>\n",
       "      <td>-2.000000</td>\n",
       "      <td>-2.000000</td>\n",
       "      <td>-2.000000</td>\n",
       "      <td>-2.000000</td>\n",
       "    </tr>\n",
       "    <tr>\n",
       "      <th>25%</th>\n",
       "      <td>-1.000000</td>\n",
       "      <td>-1.000000</td>\n",
       "      <td>-1.000000</td>\n",
       "      <td>-1.000000</td>\n",
       "      <td>-1.000000</td>\n",
       "      <td>-1.000000</td>\n",
       "    </tr>\n",
       "    <tr>\n",
       "      <th>50%</th>\n",
       "      <td>0.000000</td>\n",
       "      <td>0.000000</td>\n",
       "      <td>0.000000</td>\n",
       "      <td>0.000000</td>\n",
       "      <td>0.000000</td>\n",
       "      <td>0.000000</td>\n",
       "    </tr>\n",
       "    <tr>\n",
       "      <th>75%</th>\n",
       "      <td>0.000000</td>\n",
       "      <td>0.000000</td>\n",
       "      <td>0.000000</td>\n",
       "      <td>0.000000</td>\n",
       "      <td>0.000000</td>\n",
       "      <td>0.000000</td>\n",
       "    </tr>\n",
       "    <tr>\n",
       "      <th>max</th>\n",
       "      <td>8.000000</td>\n",
       "      <td>8.000000</td>\n",
       "      <td>8.000000</td>\n",
       "      <td>8.000000</td>\n",
       "      <td>8.000000</td>\n",
       "      <td>8.000000</td>\n",
       "    </tr>\n",
       "  </tbody>\n",
       "</table>\n",
       "</div>"
      ],
      "text/plain": [
       "          PPSep2005     PPAgo2005     PPJul2005     PPJun2005     PPMay2005  \\\n",
       "count  29997.000000  29995.000000  29993.000000  29991.000000  29984.000000   \n",
       "mean      -0.016635     -0.133689     -0.166405     -0.220800     -0.266342   \n",
       "std        1.123829      1.197254      1.196048      1.169153      1.133296   \n",
       "min       -2.000000     -2.000000     -2.000000     -2.000000     -2.000000   \n",
       "25%       -1.000000     -1.000000     -1.000000     -1.000000     -1.000000   \n",
       "50%        0.000000      0.000000      0.000000      0.000000      0.000000   \n",
       "75%        0.000000      0.000000      0.000000      0.000000      0.000000   \n",
       "max        8.000000      8.000000      8.000000      8.000000      8.000000   \n",
       "\n",
       "          PPAbr2005  \n",
       "count  29986.000000  \n",
       "mean      -0.291136  \n",
       "std        1.150134  \n",
       "min       -2.000000  \n",
       "25%       -1.000000  \n",
       "50%        0.000000  \n",
       "75%        0.000000  \n",
       "max        8.000000  "
      ]
     },
     "execution_count": 28,
     "metadata": {},
     "output_type": "execute_result"
    }
   ],
   "source": [
    "# PRimero Obtenemos la descripcion estadistica de todas los datos\n",
    "dfLimpio.iloc[:, 6:12].describe()"
   ]
  },
  {
   "cell_type": "code",
   "execution_count": 29,
   "id": "4643081b-deba-4ba0-ab4d-f94526fb0e31",
   "metadata": {},
   "outputs": [
    {
     "name": "stdout",
     "output_type": "stream",
     "text": [
      "\n",
      "Numero de Registros:\n",
      "       PPSep2005  PPAgo2005  PPJul2005  PPJun2005  PPMay2005  PPAbr2005\n",
      "-2.0       2759       3782       4085       4348     4546.0     4895.0\n",
      "-1.0       5684       6047       5935       5685     5535.0     5735.0\n",
      " 0.0      14736      15728      15761      16450    16937.0    16278.0\n",
      " 1.0       3688         28          4          2        NaN        NaN\n",
      " 2.0       2667       3927       3819       3157     2624.0     2765.0\n",
      " 3.0        322        326        240        180      178.0      184.0\n",
      " 4.0         76         99         76         69       84.0       49.0\n",
      " 5.0         26         25         21         35       17.0       13.0\n",
      " 6.0         11         12         23          5        4.0       19.0\n",
      " 7.0          9         20         27         58       58.0       46.0\n",
      " 8.0         19          1          2          2        1.0        2.0\n"
     ]
    }
   ],
   "source": [
    "# Tambien obtenemos la describcion de sus valores. Utilizando la funcion apply ejecutamos el metodo value counts a cada una de las columnas del dataframe\n",
    "print('\\nNumero de Registros:\\n',dfLimpio.iloc[:, 6:12].apply(pd.value_counts))"
   ]
  },
  {
   "cell_type": "markdown",
   "id": "41e8598a-b8fa-4fc4-8a5a-6bc1ae32f657",
   "metadata": {},
   "source": [
    "Como podemos observar, los valores no corresponden a la describcion del problema, ya que el valor de -1 es el mas pequeño pero en los registros es el -2. Por lo que necesitariamos preguntar la descripcion de esta data. Sin embargo creemos que la falta de esta informacion es vital ya que involucra el historial de pagos y en estas se basarian las predicciones de incumplimiento de pago.\n",
    "\n",
    "Para este caso estaremos usando la moda de nuevo. Ya que esta es una variable categorica. Por lo que podemos observar tambien en la tabla anterior, la moda de este conjunto de datos es 0 para todos los casos."
   ]
  },
  {
   "cell_type": "code",
   "execution_count": 30,
   "id": "7c9cafc9-db53-44ae-92ad-dfb6a17bea96",
   "metadata": {},
   "outputs": [
    {
     "data": {
      "text/html": [
       "<div>\n",
       "<style scoped>\n",
       "    .dataframe tbody tr th:only-of-type {\n",
       "        vertical-align: middle;\n",
       "    }\n",
       "\n",
       "    .dataframe tbody tr th {\n",
       "        vertical-align: top;\n",
       "    }\n",
       "\n",
       "    .dataframe thead th {\n",
       "        text-align: right;\n",
       "    }\n",
       "</style>\n",
       "<table border=\"1\" class=\"dataframe\">\n",
       "  <thead>\n",
       "    <tr style=\"text-align: right;\">\n",
       "      <th></th>\n",
       "      <th>PPSep2005</th>\n",
       "      <th>PPAgo2005</th>\n",
       "      <th>PPJul2005</th>\n",
       "      <th>PPJun2005</th>\n",
       "      <th>PPMay2005</th>\n",
       "      <th>PPAbr2005</th>\n",
       "    </tr>\n",
       "  </thead>\n",
       "  <tbody>\n",
       "    <tr>\n",
       "      <th>0</th>\n",
       "      <td>0.0</td>\n",
       "      <td>0.0</td>\n",
       "      <td>0.0</td>\n",
       "      <td>0.0</td>\n",
       "      <td>0.0</td>\n",
       "      <td>0.0</td>\n",
       "    </tr>\n",
       "  </tbody>\n",
       "</table>\n",
       "</div>"
      ],
      "text/plain": [
       "   PPSep2005  PPAgo2005  PPJul2005  PPJun2005  PPMay2005  PPAbr2005\n",
       "0        0.0        0.0        0.0        0.0        0.0        0.0"
      ]
     },
     "execution_count": 30,
     "metadata": {},
     "output_type": "execute_result"
    }
   ],
   "source": [
    "dfLimpio.iloc[:, 6:12].mode()"
   ]
  },
  {
   "cell_type": "code",
   "execution_count": 31,
   "id": "7efb2aa6-b850-4426-9340-e75c5539533c",
   "metadata": {},
   "outputs": [
    {
     "name": "stdout",
     "output_type": "stream",
     "text": [
      "\n",
      "Numero de Registros con valor 0:\n",
      " PPSep2005    14736.0\n",
      "PPAgo2005    15728.0\n",
      "PPJul2005    15761.0\n",
      "PPJun2005    16450.0\n",
      "PPMay2005    16937.0\n",
      "PPAbr2005    16278.0\n",
      "Name: 0.0, dtype: float64\n",
      "\n",
      "Numero de Nulos en Pagos Pasados: \n",
      " 6      3\n",
      "7      5\n",
      "8      7\n",
      "9      9\n",
      "10    16\n",
      "11    14\n",
      "12    11\n",
      "Name: False, dtype: int64\n"
     ]
    }
   ],
   "source": [
    "print('\\nNumero de Registros con valor 0:\\n',dfLimpio.iloc[:, 6:12].apply(pd.value_counts).iloc[2])\n",
    "# Verificamos el numero de valores antes de la limpieza en cada uno\n",
    "print('\\nNumero de Nulos en Pagos Pasados: \\n',nulldf.loc[6:12,'False'])"
   ]
  },
  {
   "cell_type": "code",
   "execution_count": 32,
   "id": "a20cfe2c-1f90-44dd-bb76-ef51fdddfef3",
   "metadata": {},
   "outputs": [
    {
     "name": "stdout",
     "output_type": "stream",
     "text": [
      "HAY VALORES NULOS EN Pagos Pasados?:  False\n",
      "\n",
      "Numero de Registros con valor 0:\n",
      " PPSep2005    14739.0\n",
      "PPAgo2005    15733.0\n",
      "PPJul2005    15768.0\n",
      "PPJun2005    16459.0\n",
      "PPMay2005    16953.0\n",
      "PPAbr2005    16292.0\n",
      "Name: 0.0, dtype: float64\n"
     ]
    }
   ],
   "source": [
    "# Remplazamos con la moda en todos los registros de todas las columnas\n",
    "dfLimpio.PPSep2005.fillna(0.0, inplace=True)\n",
    "dfLimpio.PPAgo2005.fillna(0.0, inplace=True)\n",
    "dfLimpio.PPJul2005.fillna(0.0, inplace=True)\n",
    "dfLimpio.PPJun2005.fillna(0.0, inplace=True)\n",
    "dfLimpio.PPMay2005.fillna(0.0, inplace=True)\n",
    "dfLimpio.PPAbr2005.fillna(0.0, inplace=True)\n",
    "# Verificamos que los cambios se hayan efectuado.\n",
    "print(\"HAY VALORES NULOS EN Pagos Pasados?: \", dfLimpio.iloc[:, 6:12].isnull().values.any()) \n",
    "\n",
    "# Verificamos que el numero de Registros haya incrementado en la moda\n",
    "print('\\nNumero de Registros con valor 0:\\n',dfLimpio.iloc[:, 6:12].apply(pd.value_counts).iloc[2])"
   ]
  },
  {
   "cell_type": "markdown",
   "id": "4c5cea32-30e3-41c8-8bfd-4bb04b89adcc",
   "metadata": {},
   "source": [
    "# Para finalizar, las Columnas 12-23.\n",
    "Todas estas son variables con datos numericos que indican cantidades en USD. Asi que lo primero que hay que hacer es analizar las medidas estadisticas."
   ]
  },
  {
   "cell_type": "code",
   "execution_count": 33,
   "id": "181d5af2-4412-4a9f-8634-0cccf90ad4c0",
   "metadata": {},
   "outputs": [
    {
     "data": {
      "text/html": [
       "<div>\n",
       "<style scoped>\n",
       "    .dataframe tbody tr th:only-of-type {\n",
       "        vertical-align: middle;\n",
       "    }\n",
       "\n",
       "    .dataframe tbody tr th {\n",
       "        vertical-align: top;\n",
       "    }\n",
       "\n",
       "    .dataframe thead th {\n",
       "        text-align: right;\n",
       "    }\n",
       "</style>\n",
       "<table border=\"1\" class=\"dataframe\">\n",
       "  <thead>\n",
       "    <tr style=\"text-align: right;\">\n",
       "      <th></th>\n",
       "      <th>ColumnName</th>\n",
       "      <th>True</th>\n",
       "      <th>False</th>\n",
       "    </tr>\n",
       "  </thead>\n",
       "  <tbody>\n",
       "    <tr>\n",
       "      <th>12</th>\n",
       "      <td>TRSep2005</td>\n",
       "      <td>29989</td>\n",
       "      <td>11</td>\n",
       "    </tr>\n",
       "    <tr>\n",
       "      <th>13</th>\n",
       "      <td>TRAgo2005</td>\n",
       "      <td>29989</td>\n",
       "      <td>11</td>\n",
       "    </tr>\n",
       "    <tr>\n",
       "      <th>14</th>\n",
       "      <td>TRJul2005</td>\n",
       "      <td>29987</td>\n",
       "      <td>13</td>\n",
       "    </tr>\n",
       "    <tr>\n",
       "      <th>15</th>\n",
       "      <td>TRJun2005</td>\n",
       "      <td>29985</td>\n",
       "      <td>15</td>\n",
       "    </tr>\n",
       "    <tr>\n",
       "      <th>16</th>\n",
       "      <td>TRMay2005</td>\n",
       "      <td>29983</td>\n",
       "      <td>17</td>\n",
       "    </tr>\n",
       "    <tr>\n",
       "      <th>17</th>\n",
       "      <td>TRAbr2005</td>\n",
       "      <td>29990</td>\n",
       "      <td>10</td>\n",
       "    </tr>\n",
       "    <tr>\n",
       "      <th>18</th>\n",
       "      <td>TPPSep2005</td>\n",
       "      <td>29992</td>\n",
       "      <td>8</td>\n",
       "    </tr>\n",
       "    <tr>\n",
       "      <th>19</th>\n",
       "      <td>TPPAgo2005</td>\n",
       "      <td>29991</td>\n",
       "      <td>9</td>\n",
       "    </tr>\n",
       "    <tr>\n",
       "      <th>20</th>\n",
       "      <td>TPPJul2005</td>\n",
       "      <td>29992</td>\n",
       "      <td>8</td>\n",
       "    </tr>\n",
       "    <tr>\n",
       "      <th>21</th>\n",
       "      <td>TPPJun2005</td>\n",
       "      <td>29989</td>\n",
       "      <td>11</td>\n",
       "    </tr>\n",
       "    <tr>\n",
       "      <th>22</th>\n",
       "      <td>TPPMay2005</td>\n",
       "      <td>29989</td>\n",
       "      <td>11</td>\n",
       "    </tr>\n",
       "    <tr>\n",
       "      <th>23</th>\n",
       "      <td>TPPAbr2005</td>\n",
       "      <td>29995</td>\n",
       "      <td>5</td>\n",
       "    </tr>\n",
       "  </tbody>\n",
       "</table>\n",
       "</div>"
      ],
      "text/plain": [
       "    ColumnName   True  False\n",
       "12   TRSep2005  29989     11\n",
       "13   TRAgo2005  29989     11\n",
       "14   TRJul2005  29987     13\n",
       "15   TRJun2005  29985     15\n",
       "16   TRMay2005  29983     17\n",
       "17   TRAbr2005  29990     10\n",
       "18  TPPSep2005  29992      8\n",
       "19  TPPAgo2005  29991      9\n",
       "20  TPPJul2005  29992      8\n",
       "21  TPPJun2005  29989     11\n",
       "22  TPPMay2005  29989     11\n",
       "23  TPPAbr2005  29995      5"
      ]
     },
     "execution_count": 33,
     "metadata": {},
     "output_type": "execute_result"
    }
   ],
   "source": [
    "# Obtenemos del data frame de datos faltantes cuantos hay en estas columnas.\n",
    "nulldf[12:24]"
   ]
  },
  {
   "cell_type": "code",
   "execution_count": 34,
   "id": "f3a05efb-cb3b-4b55-8ad2-52b4543e8ce8",
   "metadata": {},
   "outputs": [
    {
     "data": {
      "text/html": [
       "<div>\n",
       "<style scoped>\n",
       "    .dataframe tbody tr th:only-of-type {\n",
       "        vertical-align: middle;\n",
       "    }\n",
       "\n",
       "    .dataframe tbody tr th {\n",
       "        vertical-align: top;\n",
       "    }\n",
       "\n",
       "    .dataframe thead th {\n",
       "        text-align: right;\n",
       "    }\n",
       "</style>\n",
       "<table border=\"1\" class=\"dataframe\">\n",
       "  <thead>\n",
       "    <tr style=\"text-align: right;\">\n",
       "      <th></th>\n",
       "      <th>TRSep2005</th>\n",
       "      <th>TRAgo2005</th>\n",
       "      <th>TRJul2005</th>\n",
       "      <th>TRJun2005</th>\n",
       "      <th>TRMay2005</th>\n",
       "      <th>TRAbr2005</th>\n",
       "      <th>TPPSep2005</th>\n",
       "      <th>TPPAgo2005</th>\n",
       "      <th>TPPJul2005</th>\n",
       "      <th>TPPJun2005</th>\n",
       "      <th>TPPMay2005</th>\n",
       "      <th>TPPAbr2005</th>\n",
       "    </tr>\n",
       "  </thead>\n",
       "  <tbody>\n",
       "    <tr>\n",
       "      <th>count</th>\n",
       "      <td>29989.000000</td>\n",
       "      <td>29989.000000</td>\n",
       "      <td>2.998700e+04</td>\n",
       "      <td>29985.000000</td>\n",
       "      <td>29983.000000</td>\n",
       "      <td>29990.000000</td>\n",
       "      <td>29992.000000</td>\n",
       "      <td>2.999100e+04</td>\n",
       "      <td>29992.000000</td>\n",
       "      <td>29989.000000</td>\n",
       "      <td>29989.000000</td>\n",
       "      <td>29995.000000</td>\n",
       "    </tr>\n",
       "    <tr>\n",
       "      <th>mean</th>\n",
       "      <td>51236.862750</td>\n",
       "      <td>49190.734669</td>\n",
       "      <td>4.702535e+04</td>\n",
       "      <td>43275.652326</td>\n",
       "      <td>40324.493980</td>\n",
       "      <td>38881.135745</td>\n",
       "      <td>5662.945886</td>\n",
       "      <td>5.922489e+03</td>\n",
       "      <td>5225.623400</td>\n",
       "      <td>4827.252526</td>\n",
       "      <td>4800.297209</td>\n",
       "      <td>5216.259977</td>\n",
       "    </tr>\n",
       "    <tr>\n",
       "      <th>std</th>\n",
       "      <td>73645.219278</td>\n",
       "      <td>71183.385123</td>\n",
       "      <td>6.936086e+04</td>\n",
       "      <td>64345.500073</td>\n",
       "      <td>60809.984983</td>\n",
       "      <td>59561.312967</td>\n",
       "      <td>16564.165089</td>\n",
       "      <td>2.304418e+04</td>\n",
       "      <td>17608.422625</td>\n",
       "      <td>15668.751975</td>\n",
       "      <td>15280.842069</td>\n",
       "      <td>17778.848359</td>\n",
       "    </tr>\n",
       "    <tr>\n",
       "      <th>min</th>\n",
       "      <td>-165580.000000</td>\n",
       "      <td>-69777.000000</td>\n",
       "      <td>-1.572640e+05</td>\n",
       "      <td>-170000.000000</td>\n",
       "      <td>-81334.000000</td>\n",
       "      <td>-339603.000000</td>\n",
       "      <td>0.000000</td>\n",
       "      <td>0.000000e+00</td>\n",
       "      <td>0.000000</td>\n",
       "      <td>0.000000</td>\n",
       "      <td>0.000000</td>\n",
       "      <td>0.000000</td>\n",
       "    </tr>\n",
       "    <tr>\n",
       "      <th>25%</th>\n",
       "      <td>3565.000000</td>\n",
       "      <td>2986.000000</td>\n",
       "      <td>2.667500e+03</td>\n",
       "      <td>2329.000000</td>\n",
       "      <td>1763.500000</td>\n",
       "      <td>1256.250000</td>\n",
       "      <td>1000.000000</td>\n",
       "      <td>8.355000e+02</td>\n",
       "      <td>390.000000</td>\n",
       "      <td>296.000000</td>\n",
       "      <td>251.000000</td>\n",
       "      <td>118.000000</td>\n",
       "    </tr>\n",
       "    <tr>\n",
       "      <th>50%</th>\n",
       "      <td>22387.000000</td>\n",
       "      <td>21207.000000</td>\n",
       "      <td>2.008900e+04</td>\n",
       "      <td>19052.000000</td>\n",
       "      <td>18107.000000</td>\n",
       "      <td>17081.000000</td>\n",
       "      <td>2100.000000</td>\n",
       "      <td>2.009000e+03</td>\n",
       "      <td>1800.000000</td>\n",
       "      <td>1500.000000</td>\n",
       "      <td>1500.000000</td>\n",
       "      <td>1500.000000</td>\n",
       "    </tr>\n",
       "    <tr>\n",
       "      <th>75%</th>\n",
       "      <td>67139.000000</td>\n",
       "      <td>64027.000000</td>\n",
       "      <td>6.018200e+04</td>\n",
       "      <td>54560.000000</td>\n",
       "      <td>50213.000000</td>\n",
       "      <td>49208.250000</td>\n",
       "      <td>5006.000000</td>\n",
       "      <td>5.000000e+03</td>\n",
       "      <td>4505.500000</td>\n",
       "      <td>4014.000000</td>\n",
       "      <td>4033.000000</td>\n",
       "      <td>4000.000000</td>\n",
       "    </tr>\n",
       "    <tr>\n",
       "      <th>max</th>\n",
       "      <td>964511.000000</td>\n",
       "      <td>983931.000000</td>\n",
       "      <td>1.664089e+06</td>\n",
       "      <td>891586.000000</td>\n",
       "      <td>927171.000000</td>\n",
       "      <td>961664.000000</td>\n",
       "      <td>873552.000000</td>\n",
       "      <td>1.684259e+06</td>\n",
       "      <td>896040.000000</td>\n",
       "      <td>621000.000000</td>\n",
       "      <td>426529.000000</td>\n",
       "      <td>528666.000000</td>\n",
       "    </tr>\n",
       "  </tbody>\n",
       "</table>\n",
       "</div>"
      ],
      "text/plain": [
       "           TRSep2005      TRAgo2005     TRJul2005      TRJun2005  \\\n",
       "count   29989.000000   29989.000000  2.998700e+04   29985.000000   \n",
       "mean    51236.862750   49190.734669  4.702535e+04   43275.652326   \n",
       "std     73645.219278   71183.385123  6.936086e+04   64345.500073   \n",
       "min   -165580.000000  -69777.000000 -1.572640e+05 -170000.000000   \n",
       "25%      3565.000000    2986.000000  2.667500e+03    2329.000000   \n",
       "50%     22387.000000   21207.000000  2.008900e+04   19052.000000   \n",
       "75%     67139.000000   64027.000000  6.018200e+04   54560.000000   \n",
       "max    964511.000000  983931.000000  1.664089e+06  891586.000000   \n",
       "\n",
       "           TRMay2005      TRAbr2005     TPPSep2005    TPPAgo2005  \\\n",
       "count   29983.000000   29990.000000   29992.000000  2.999100e+04   \n",
       "mean    40324.493980   38881.135745    5662.945886  5.922489e+03   \n",
       "std     60809.984983   59561.312967   16564.165089  2.304418e+04   \n",
       "min    -81334.000000 -339603.000000       0.000000  0.000000e+00   \n",
       "25%      1763.500000    1256.250000    1000.000000  8.355000e+02   \n",
       "50%     18107.000000   17081.000000    2100.000000  2.009000e+03   \n",
       "75%     50213.000000   49208.250000    5006.000000  5.000000e+03   \n",
       "max    927171.000000  961664.000000  873552.000000  1.684259e+06   \n",
       "\n",
       "          TPPJul2005     TPPJun2005     TPPMay2005     TPPAbr2005  \n",
       "count   29992.000000   29989.000000   29989.000000   29995.000000  \n",
       "mean     5225.623400    4827.252526    4800.297209    5216.259977  \n",
       "std     17608.422625   15668.751975   15280.842069   17778.848359  \n",
       "min         0.000000       0.000000       0.000000       0.000000  \n",
       "25%       390.000000     296.000000     251.000000     118.000000  \n",
       "50%      1800.000000    1500.000000    1500.000000    1500.000000  \n",
       "75%      4505.500000    4014.000000    4033.000000    4000.000000  \n",
       "max    896040.000000  621000.000000  426529.000000  528666.000000  "
      ]
     },
     "execution_count": 34,
     "metadata": {},
     "output_type": "execute_result"
    }
   ],
   "source": [
    "# PRimero Obtenemos la descripcion estadistica de todas los datos\n",
    "dfLimpio.iloc[:, 12:24].describe()"
   ]
  },
  {
   "cell_type": "markdown",
   "id": "7f241e0d-2dff-4398-b4f3-78e6c65c60f1",
   "metadata": {},
   "source": [
    "Para estos casos particulares, el rango de valores sera demasiado grande. Por lo que, no es conveniente imprimir todos los valores de todos los elementos. \n",
    "Nuestro siguiente paso fue decidir por la mediana, esto debido a ser datos de dinero. Ya que una media podria resultar muy alta si el sesgo es positivo o muy baja si es negativo.\n"
   ]
  },
  {
   "cell_type": "code",
   "execution_count": 35,
   "id": "0be7d05f-9a62-4d17-8989-1102deef23a8",
   "metadata": {},
   "outputs": [
    {
     "data": {
      "text/html": [
       "<div>\n",
       "<style scoped>\n",
       "    .dataframe tbody tr th:only-of-type {\n",
       "        vertical-align: middle;\n",
       "    }\n",
       "\n",
       "    .dataframe tbody tr th {\n",
       "        vertical-align: top;\n",
       "    }\n",
       "\n",
       "    .dataframe thead th {\n",
       "        text-align: right;\n",
       "    }\n",
       "</style>\n",
       "<table border=\"1\" class=\"dataframe\">\n",
       "  <thead>\n",
       "    <tr style=\"text-align: right;\">\n",
       "      <th></th>\n",
       "      <th>ColumnName</th>\n",
       "      <th>Media</th>\n",
       "      <th>Mediana</th>\n",
       "      <th>Moda</th>\n",
       "    </tr>\n",
       "  </thead>\n",
       "  <tbody>\n",
       "    <tr>\n",
       "      <th>0</th>\n",
       "      <td>TRSep2005</td>\n",
       "      <td>51236.862750</td>\n",
       "      <td>22387.0</td>\n",
       "      <td>0.0</td>\n",
       "    </tr>\n",
       "    <tr>\n",
       "      <th>1</th>\n",
       "      <td>TRAgo2005</td>\n",
       "      <td>49190.734669</td>\n",
       "      <td>21207.0</td>\n",
       "      <td>0.0</td>\n",
       "    </tr>\n",
       "    <tr>\n",
       "      <th>2</th>\n",
       "      <td>TRJul2005</td>\n",
       "      <td>47025.350152</td>\n",
       "      <td>20089.0</td>\n",
       "      <td>0.0</td>\n",
       "    </tr>\n",
       "    <tr>\n",
       "      <th>3</th>\n",
       "      <td>TRJun2005</td>\n",
       "      <td>43275.652326</td>\n",
       "      <td>19052.0</td>\n",
       "      <td>0.0</td>\n",
       "    </tr>\n",
       "    <tr>\n",
       "      <th>4</th>\n",
       "      <td>TRMay2005</td>\n",
       "      <td>40324.493980</td>\n",
       "      <td>18107.0</td>\n",
       "      <td>0.0</td>\n",
       "    </tr>\n",
       "    <tr>\n",
       "      <th>5</th>\n",
       "      <td>TRAbr2005</td>\n",
       "      <td>38881.135745</td>\n",
       "      <td>17081.0</td>\n",
       "      <td>0.0</td>\n",
       "    </tr>\n",
       "    <tr>\n",
       "      <th>6</th>\n",
       "      <td>TPPSep2005</td>\n",
       "      <td>5662.945886</td>\n",
       "      <td>2100.0</td>\n",
       "      <td>0.0</td>\n",
       "    </tr>\n",
       "    <tr>\n",
       "      <th>7</th>\n",
       "      <td>TPPAgo2005</td>\n",
       "      <td>5922.488913</td>\n",
       "      <td>2009.0</td>\n",
       "      <td>0.0</td>\n",
       "    </tr>\n",
       "    <tr>\n",
       "      <th>8</th>\n",
       "      <td>TPPJul2005</td>\n",
       "      <td>5225.623400</td>\n",
       "      <td>1800.0</td>\n",
       "      <td>0.0</td>\n",
       "    </tr>\n",
       "    <tr>\n",
       "      <th>9</th>\n",
       "      <td>TPPJun2005</td>\n",
       "      <td>4827.252526</td>\n",
       "      <td>1500.0</td>\n",
       "      <td>0.0</td>\n",
       "    </tr>\n",
       "    <tr>\n",
       "      <th>10</th>\n",
       "      <td>TPPMay2005</td>\n",
       "      <td>4800.297209</td>\n",
       "      <td>1500.0</td>\n",
       "      <td>0.0</td>\n",
       "    </tr>\n",
       "    <tr>\n",
       "      <th>11</th>\n",
       "      <td>TPPAbr2005</td>\n",
       "      <td>5216.259977</td>\n",
       "      <td>1500.0</td>\n",
       "      <td>0.0</td>\n",
       "    </tr>\n",
       "  </tbody>\n",
       "</table>\n",
       "</div>"
      ],
      "text/plain": [
       "    ColumnName         Media  Mediana  Moda\n",
       "0    TRSep2005  51236.862750  22387.0   0.0\n",
       "1    TRAgo2005  49190.734669  21207.0   0.0\n",
       "2    TRJul2005  47025.350152  20089.0   0.0\n",
       "3    TRJun2005  43275.652326  19052.0   0.0\n",
       "4    TRMay2005  40324.493980  18107.0   0.0\n",
       "5    TRAbr2005  38881.135745  17081.0   0.0\n",
       "6   TPPSep2005   5662.945886   2100.0   0.0\n",
       "7   TPPAgo2005   5922.488913   2009.0   0.0\n",
       "8   TPPJul2005   5225.623400   1800.0   0.0\n",
       "9   TPPJun2005   4827.252526   1500.0   0.0\n",
       "10  TPPMay2005   4800.297209   1500.0   0.0\n",
       "11  TPPAbr2005   5216.259977   1500.0   0.0"
      ]
     },
     "execution_count": 35,
     "metadata": {},
     "output_type": "execute_result"
    }
   ],
   "source": [
    "# Construimos un DataFrame para mostrar las diferencias entre cada uno de los valores\n",
    "aux = pd.DataFrame({\n",
    "    'ColumnName':dfLimpio.iloc[:, 12:24].columns.values, \n",
    "    'Media': dfLimpio.iloc[:, 12:24].mean().values,\n",
    "    'Mediana': dfLimpio.iloc[:, 12:24].median().values,\n",
    "    'Moda': dfLimpio.iloc[:, 12:24].mode().values[0]\n",
    "})\n",
    "aux\n"
   ]
  },
  {
   "cell_type": "code",
   "execution_count": 36,
   "id": "f21b3aa6-0d72-4464-b30c-14a94dc3e531",
   "metadata": {},
   "outputs": [
    {
     "name": "stdout",
     "output_type": "stream",
     "text": [
      "HAY VALORES NULOS EN Total del Recibo y Total de Pagos Pasados:  False\n"
     ]
    }
   ],
   "source": [
    "# Remplazamos con la mediana en todos los registros de todas las columnas\n",
    "columnas = aux.ColumnName.to_list()\n",
    "mediana = aux.Mediana\n",
    "\n",
    "for idx, columna in enumerate(columnas):\n",
    "    dfLimpio[columna].fillna(mediana[idx], inplace=True)\n",
    "\n",
    "# Verificamos que los cambios se hayan efectuado.\n",
    "print(\"HAY VALORES NULOS EN Total del Recibo y Total de Pagos Pasados: \", dfLimpio.iloc[:, 6:12].isnull().values.any()) "
   ]
  },
  {
   "cell_type": "markdown",
   "id": "ad1333ca-f92b-4c5c-9c77-b708252d0e62",
   "metadata": {},
   "source": [
    "# Finalmente validaremos si queda algun valor Nulo en todo el conjunto de Datos"
   ]
  },
  {
   "cell_type": "code",
   "execution_count": 37,
   "id": "b0f0ea55-57dc-4074-ba96-d691b1485d0d",
   "metadata": {},
   "outputs": [
    {
     "name": "stdout",
     "output_type": "stream",
     "text": [
      "HAY VALORES NULOS EN EL CONJUNTO DE DATOS:  True\n"
     ]
    }
   ],
   "source": [
    "print(\"HAY VALORES NULOS EN EL CONJUNTO DE DATOS: \", dfLimpio.isnull().values.any()) "
   ]
  },
  {
   "cell_type": "code",
   "execution_count": 38,
   "id": "f0b33a8f-743a-4162-8785-c33ab16190ed",
   "metadata": {},
   "outputs": [
    {
     "data": {
      "text/plain": [
       "ID               False\n",
       "Total_Credito    False\n",
       "Sexo             False\n",
       "Estudios         False\n",
       "Estado_Civil     False\n",
       "Edad             False\n",
       "PPSep2005        False\n",
       "PPAgo2005        False\n",
       "PPJul2005        False\n",
       "PPJun2005        False\n",
       "PPMay2005        False\n",
       "PPAbr2005        False\n",
       "TRSep2005        False\n",
       "TRAgo2005        False\n",
       "TRJul2005        False\n",
       "TRJun2005        False\n",
       "TRMay2005        False\n",
       "TRAbr2005        False\n",
       "TPPSep2005       False\n",
       "TPPAgo2005       False\n",
       "TPPJul2005       False\n",
       "TPPJun2005       False\n",
       "TPPMay2005       False\n",
       "TPPAbr2005       False\n",
       "Y                 True\n",
       "dtype: bool"
      ]
     },
     "execution_count": 38,
     "metadata": {},
     "output_type": "execute_result"
    }
   ],
   "source": [
    "dfLimpio.isnull().any()"
   ]
  },
  {
   "cell_type": "markdown",
   "id": "a6f01428-f82f-4a27-a7f7-5ac8ebc999a2",
   "metadata": {},
   "source": [
    "Como podemos observar, el conjunto de datos esta practicamente limpio. Solo quedan registros vacios en la variable calculada Y. \n",
    "Al nosotros no saber con exactitud el modelo usado para calcularlo. Hemos decidido eliminar las filas que contengan Nulo en ese valor."
   ]
  },
  {
   "cell_type": "code",
   "execution_count": 39,
   "id": "5e66d4ab-4116-494d-aeac-807e2451517f",
   "metadata": {},
   "outputs": [
    {
     "name": "stdout",
     "output_type": "stream",
     "text": [
      "Numero de Registros en Y\n",
      " 0.0    23362\n",
      "1.0     6635\n",
      "Name: Y, dtype: int64\n",
      "Numero de Nulos en Y: 3\n",
      "Forma de Conjunto de Datos:  (30000, 25)\n"
     ]
    }
   ],
   "source": [
    "# Verificamos el numero de valores antes eliminarlos\n",
    "print('Numero de Registros en Y\\n',dfLimpio['Y'].value_counts())\n",
    "print('Numero de Nulos en Y:',nulldf.loc[24, 'False'])\n",
    "print('Forma de Conjunto de Datos: ', dfLimpio.shape)"
   ]
  },
  {
   "cell_type": "code",
   "execution_count": 40,
   "id": "3989e231-3191-4fba-bbb3-78314b5778b6",
   "metadata": {},
   "outputs": [
    {
     "name": "stdout",
     "output_type": "stream",
     "text": [
      "HAY VALORES NULOS EN EL CONJUNTO DE DATOS:  False\n",
      "Forma de Conjunto de Datos:  (29997, 25)\n"
     ]
    }
   ],
   "source": [
    "dfLimpio.dropna(inplace=True) #Eliminamos los valores nulos restantes, aquellos que no nos conviene calcular\n",
    "\n",
    "# Validamos las modificaciones hechas.\n",
    "print(\"HAY VALORES NULOS EN EL CONJUNTO DE DATOS: \", dfLimpio.isnull().values.any()) \n",
    "print('Forma de Conjunto de Datos: ', dfLimpio.shape)"
   ]
  },
  {
   "cell_type": "markdown",
   "id": "82f00471-3933-4a59-a35b-3afd5b380837",
   "metadata": {
    "tags": []
   },
   "source": [
    "<h2 style='color:blue'>CONCLUCIÓN DE EJERCICIO</h2>\n",
    "\n",
    "Al final de este ejercicio hemos transformado y limpiado todos los datos disponibles en diversas columnas utilizando diferentes valores y tecnicas para hacerlo. Definitivamente podriamos encorgar mas maneras de limpiar y transformar los datos pero en este ejercicio queriamos mantener lo mas sencillo posible.\n",
    "Ademas tendriamos que usar nuestro conjunto de datos para contruir un modelo y poder evaluar con los conjuntos de datos adecuados si nuestras acciones fueron las correctas."
   ]
  },
  {
   "cell_type": "markdown",
   "id": "a2a1dcea-8989-4279-8f78-86005d5c3f6f",
   "metadata": {
    "tags": []
   },
   "source": [
    "<h1 style='color:blue'>Parte 3: Preparación de los datos</h1>\n",
    "\n",
    "Con base en los resultados de tu libreta de Google Colab de la Parte 2 responde detalladamente las siguientes preguntas: "
   ]
  },
  {
   "cell_type": "markdown",
   "id": "99fe11e3-ee66-4edf-9fb2-80ad49025413",
   "metadata": {
    "tags": []
   },
   "source": [
    "<h2 style='color:blue'>¿Qué datos consideramos mas importantes? ¿Por qué?</h2>\n"
   ]
  },
  {
   "cell_type": "markdown",
   "id": "1e185941-3e5e-4ff9-a593-d6a27639e7c9",
   "metadata": {},
   "source": [
    "Para nosotros, todos los datos del conjunto de datos son sumamente importantes para un modelo como el descrito en la definición del conjunto de datos. Los campos de identificación (edad, sexo, estado civil, escolaridad y edad) nos pueden brindar la perspectiva socioeconómica de los datos, nos sirven para analizar las situaciones por las que los sujetos de estudio atraviesan y las relaciones que tienen con los datos de su historial crediticio que vienen en las siguientes columnas. Es por esto que creemos que los primeros 5 campos se relacionan íntimamente con el resto de las columnas con información más detallada del historial crediticio y un analista de datos podría encontrar las relaciones necesarias para realizar buenas predicciones. "
   ]
  },
  {
   "cell_type": "markdown",
   "id": "e545e01e-45d5-4f51-808f-6d263754e464",
   "metadata": {},
   "source": [
    "<h2 style='color:blue'>¿Se eliminaron o reemplazaron datos nulos? ¿Qué se hizo y por qué?</h2>"
   ]
  },
  {
   "cell_type": "markdown",
   "id": "24ed0d6a-7d7d-4c41-894c-44a2d50ac08a",
   "metadata": {},
   "source": [
    "Si, decidimos remplazar datos nulos en la mayoría de los campos. En primer lugar, porque para algunos el número de campos faltantes era demasiado pequeño 1-5 y en segundo lugar creímos que contábamos con la suficiente información en las columnas para poder calcular alguna de las variables de remplazo. Ya fuera la media, la mediana o la moda, las cuales nos sirvieron para remplazar los valores faltantes."
   ]
  },
  {
   "cell_type": "markdown",
   "id": "c9ff035a-0e34-4a62-8f3d-1353cb538f70",
   "metadata": {},
   "source": [
    "<h2 style='color:blue'>¿Es necesario limpiar los datos para el análisis? Sí / No / ¿Por qué?</h2>"
   ]
  },
  {
   "cell_type": "markdown",
   "id": "87dd3c0e-7a96-437e-ad25-6a6a7c9b937b",
   "metadata": {},
   "source": [
    "Creemos que para este caso **SI** es necesario limpiar un poco los datos para poder procesarlos y generar un mejor análisis. Mediante nuestro análisis logramos identificar campos que no se adaptaban a el modelo descrito por lo que decidimos transformar dichos campos para que pudiera ser utilizado, en especial en un par de campos que contaban con categorías como Genero y Grado de estudios. Creemos que, sin estas transformaciones y llenado de datos nulos, el análisis podría carecer de precisión. "
   ]
  },
  {
   "cell_type": "markdown",
   "id": "580b788d-684a-455a-8c4e-bfb33abec117",
   "metadata": {},
   "source": [
    "<h2 style='color:blue'>¿Existen problemas de formato que deban solucionar antes del proceso de modelado? Sí / No / Por qué.</h2>"
   ]
  },
  {
   "cell_type": "markdown",
   "id": "c51ef046-1e7a-4955-b8cf-18a4d689bf8f",
   "metadata": {},
   "source": [
    "En nuestro análisis, SI encontramos problemas de formato de datos. En especial porque la definición proporcionada mencionaba que los campos debían de tener ciertos valores categóricos que no eran respetados. Así mismo creímos conveniente transformar el campo de edad a entero ya que:\n",
    "\n",
    "- No parecía haber indicios de edades flotantes. \n",
    "- Porque no parece ser relevante para los modelos un cambio en el tipo de dato."
   ]
  },
  {
   "cell_type": "markdown",
   "id": "30a4029a-bb28-4a73-b920-293f94859f38",
   "metadata": {},
   "source": [
    "<h2 style='color:blue'>¿Qué ajustes se realizaron en el proceso de limpieza de datos (agregar, integrar, eliminar, modificar registros (filas), cambiar atributos (columnas)?</h2>"
   ]
  },
  {
   "cell_type": "markdown",
   "id": "61331909-6f32-44f3-8e52-04d38a4903f8",
   "metadata": {},
   "source": [
    "En el ejercicio realizamos las siguientes acciones:\n",
    "\n",
    "- Agregar datos faltantes o valores nulos en todas las columnas excepto la última (Y) ya que consideramos que era un variable calculada por el modelo usado en el ejercicio. \n",
    "- Integrar valores de variables categóricas. Unificando los valores diferentes a los establecidos en la definición del problema.\n",
    "- Eliminamos 3 registros (filas) que no contaban con valores en la columna Y. Debido a que no nos parecía una buena práctica usar algún método de sustitución como la media, moda o mediana como en otras columnas.\n",
    "- Cambiamos atributos debido a que consideramos que el tipo de dato no era el adecuado para realizar un análisis y podría causar confusión o entradas de datos de tipo erróneos."
   ]
  },
  {
   "cell_type": "markdown",
   "id": "df02b323-c299-4cb4-972e-f59f67d4f4e1",
   "metadata": {},
   "source": [
    "<h2 style='color:blue'>Bibliografía</h2>\n",
    "\n",
    "- Cavell-Clarke, S. (2018). What is a database? BookLife Publishing.\n",
    "- CSB, & SJU Libraries. (2020). Research guides: General library research tutorials: Module 4: Searching a database. https://guides.csbsju.edu/general-research/searching\n",
    "- Kim, K. (s/f). What is a database? Definition, types and examples. Fivetran.com. Recuperado el 4 de octubre de 2022, de https://www.fivetran.com/blog/what-is-a-database\n",
    "- ¿Qué es un almacén de datos? (s/f). Oracle.com. Recuperado el 4 de octubre de 2022, de https://www.oracle.com/mx/database/what-is-a-data-warehouse/\n",
    "- Reed, N. (2021, enero 19). The history of databases. ThinkAutomation. https://www.thinkautomation.com/histories/the-history-of-databases/"
   ]
  }
 ],
 "metadata": {
  "kernelspec": {
   "display_name": "Python 3 (ipykernel)",
   "language": "python",
   "name": "python3"
  },
  "language_info": {
   "codemirror_mode": {
    "name": "ipython",
    "version": 3
   },
   "file_extension": ".py",
   "mimetype": "text/x-python",
   "name": "python",
   "nbconvert_exporter": "python",
   "pygments_lexer": "ipython3",
   "version": "3.8.5"
  }
 },
 "nbformat": 4,
 "nbformat_minor": 5
}
